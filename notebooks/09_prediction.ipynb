{
 "cells": [
  {
   "cell_type": "code",
   "execution_count": 1,
   "id": "692d6caa",
   "metadata": {},
   "outputs": [],
   "source": [
    "import mlflow\n",
    "from mlflow.tracking import MlflowClient\n",
    "import pandas as pd\n",
    "import os\n",
    "import pickle\n"
   ]
  },
  {
   "cell_type": "code",
   "execution_count": 2,
   "id": "dba93acd",
   "metadata": {},
   "outputs": [],
   "source": [
    "MLFLOW_TRACKING_URI = '../models/mlruns'\n",
    "MLFLOW_EXPERIMENT_NAME = 'skills_jobs_matching'\n",
    "MLFLOW_RUN_ID = '812636a81de04341b6d3ff99dd1037a6'\n",
    "LOG_PATH = '../models/logs'\n",
    "LOG_DATA_PKL    =  \"rf_data.pkl\"\n",
    "LOG_MODEL_PKL   =  \"rf_model.pkl\"\n",
    "LOG_METRICS_PKL =  \"rf_metrics.pkl\""
   ]
  },
  {
   "cell_type": "markdown",
   "id": "beb0b94d",
   "metadata": {},
   "source": [
    "# Loading Model and Data"
   ]
  },
  {
   "cell_type": "markdown",
   "id": "8924ce2c",
   "metadata": {},
   "source": [
    "MLflow Settup\n"
   ]
  },
  {
   "cell_type": "code",
   "execution_count": 3,
   "id": "04490d91",
   "metadata": {},
   "outputs": [],
   "source": [
    "mlflow.set_tracking_uri(MLFLOW_TRACKING_URI)\n",
    "client = MlflowClient()\n",
    "run = mlflow.get_run(MLFLOW_RUN_ID)\n",
    "artifact_path = run.info.artifact_uri"
   ]
  },
  {
   "cell_type": "code",
   "execution_count": 4,
   "id": "ca1b3b8b",
   "metadata": {},
   "outputs": [
    {
     "data": {
      "text/plain": [
       "'file:c:/Users/Abdelhakiem/Documents/CodingLandscape/side_projects/job-skill-matcher/notebooks/../models/mlruns/344207504652916142/812636a81de04341b6d3ff99dd1037a6/artifacts'"
      ]
     },
     "execution_count": 4,
     "metadata": {},
     "output_type": "execute_result"
    }
   ],
   "source": [
    "artifact_path"
   ]
  },
  {
   "cell_type": "code",
   "execution_count": 5,
   "id": "f6eb48ea",
   "metadata": {},
   "outputs": [
    {
     "data": {
      "text/plain": [
       "{'description': 'Random Forest Classifier with PCA',\n",
       " 'model_object': Pipeline(steps=[('scaler', RobustScaler()), ('pca', PCA(n_components=0.7)),\n",
       "                 ('classifier',\n",
       "                  RandomForestClassifier(n_estimators=500, n_jobs=-1,\n",
       "                                         random_state=42))]),\n",
       " 'model_detailes': \"Pipeline(steps=[('scaler', RobustScaler()), ('pca', PCA(n_components=0.7)),\\n                ('classifier',\\n                 RandomForestClassifier(n_estimators=500, n_jobs=-1,\\n                                        random_state=42))])\"}"
      ]
     },
     "execution_count": 5,
     "metadata": {},
     "output_type": "execute_result"
    }
   ],
   "source": [
    "model_path = '../models/mlruns/344207504652916142/812636a81de04341b6d3ff99dd1037a6/artifacts/temp/rf_model.pkl'\n",
    "with open(model_path, \"rb\") as f:\n",
    "    model = pickle.load(f)\n",
    "model"
   ]
  },
  {
   "cell_type": "code",
   "execution_count": 6,
   "id": "96a8ecc9",
   "metadata": {},
   "outputs": [
    {
     "data": {
      "text/plain": [
       "dict_keys(['data_path', 'training_indices', 'teseting_indices', 'features_names', 'target_names'])"
      ]
     },
     "execution_count": 6,
     "metadata": {},
     "output_type": "execute_result"
    }
   ],
   "source": [
    "data_path = '../models/mlruns/344207504652916142/812636a81de04341b6d3ff99dd1037a6/artifacts/temp/rf_data.pkl'\n",
    "with open(data_path, \"rb\") as f:\n",
    "    data = pickle.load(f)\n",
    "data.keys()"
   ]
  },
  {
   "cell_type": "code",
   "execution_count": 7,
   "id": "d0c08216",
   "metadata": {},
   "outputs": [],
   "source": [
    "classifier = model['model_object']\n",
    "features_names = pd.Series(data['features_names'])\n",
    "targets_names = pd.Series(data['target_names'])"
   ]
  },
  {
   "cell_type": "code",
   "execution_count": 8,
   "id": "cb7e7ffe",
   "metadata": {},
   "outputs": [
    {
     "data": {
      "text/plain": [
       "0      skills_group_0\n",
       "1      skills_group_1\n",
       "2     skills_group_10\n",
       "3     skills_group_11\n",
       "4     skills_group_12\n",
       "5     skills_group_13\n",
       "6     skills_group_14\n",
       "7     skills_group_15\n",
       "8     skills_group_16\n",
       "9     skills_group_17\n",
       "10    skills_group_18\n",
       "11    skills_group_19\n",
       "12     skills_group_2\n",
       "13    skills_group_20\n",
       "14    skills_group_21\n",
       "15    skills_group_22\n",
       "16    skills_group_23\n",
       "17     skills_group_3\n",
       "18     skills_group_4\n",
       "19     skills_group_5\n",
       "20     skills_group_6\n",
       "21     skills_group_7\n",
       "22     skills_group_8\n",
       "23     skills_group_9\n",
       "dtype: object"
      ]
     },
     "execution_count": 8,
     "metadata": {},
     "output_type": "execute_result"
    }
   ],
   "source": [
    "pd.Series(data['features_names'])"
   ]
  },
  {
   "cell_type": "code",
   "execution_count": 9,
   "id": "004565e7",
   "metadata": {},
   "outputs": [
    {
     "data": {
      "text/plain": [
       "0                               Academic researcher\n",
       "1                          Data or business analyst\n",
       "2     Data scientist or machine learning specialist\n",
       "3                            Database administrator\n",
       "4                                 DevOps specialist\n",
       "5                             Developer, QA or test\n",
       "6                               Developer, back-end\n",
       "7     Developer, desktop or enterprise applications\n",
       "8       Developer, embedded applications or devices\n",
       "9                              Developer, front-end\n",
       "10                            Developer, full-stack\n",
       "11                      Developer, game or graphics\n",
       "12                                Developer, mobile\n",
       "13                                   Engineer, data\n",
       "14                                        Scientist\n",
       "15                             System administrator\n",
       "dtype: object"
      ]
     },
     "execution_count": 9,
     "metadata": {},
     "output_type": "execute_result"
    }
   ],
   "source": [
    "targets_names"
   ]
  },
  {
   "cell_type": "markdown",
   "id": "9c6f23e8",
   "metadata": {},
   "source": [
    "---\n",
    "## Load Skills Clusters"
   ]
  },
  {
   "cell_type": "code",
   "execution_count": 10,
   "id": "e4955915",
   "metadata": {},
   "outputs": [],
   "source": [
    "import json\n",
    "SKILLS_CLUSTERS_PATH = '../data/processed/skills_clusters.json'\n",
    "with open(SKILLS_CLUSTERS_PATH, 'r') as f:\n",
    "    skills_clusters = json.load(f)\n",
    "skills_clusters = pd.Series(skills_clusters)"
   ]
  },
  {
   "cell_type": "code",
   "execution_count": 11,
   "id": "7b266f9e",
   "metadata": {},
   "outputs": [
    {
     "data": {
      "text/html": [
       "<div>\n",
       "<style scoped>\n",
       "    .dataframe tbody tr th:only-of-type {\n",
       "        vertical-align: middle;\n",
       "    }\n",
       "\n",
       "    .dataframe tbody tr th {\n",
       "        vertical-align: top;\n",
       "    }\n",
       "\n",
       "    .dataframe thead th {\n",
       "        text-align: right;\n",
       "    }\n",
       "</style>\n",
       "<table border=\"1\" class=\"dataframe\">\n",
       "  <thead>\n",
       "    <tr style=\"text-align: right;\">\n",
       "      <th></th>\n",
       "      <th>cluster_id</th>\n",
       "      <th>skill</th>\n",
       "    </tr>\n",
       "  </thead>\n",
       "  <tbody>\n",
       "    <tr>\n",
       "      <th>0</th>\n",
       "      <td>skills_group_0</td>\n",
       "      <td>Qt</td>\n",
       "    </tr>\n",
       "    <tr>\n",
       "      <th>1</th>\n",
       "      <td>skills_group_0</td>\n",
       "      <td>APL</td>\n",
       "    </tr>\n",
       "    <tr>\n",
       "      <th>2</th>\n",
       "      <td>skills_group_0</td>\n",
       "      <td>COBOL</td>\n",
       "    </tr>\n",
       "    <tr>\n",
       "      <th>3</th>\n",
       "      <td>skills_group_0</td>\n",
       "      <td>Clojure</td>\n",
       "    </tr>\n",
       "    <tr>\n",
       "      <th>4</th>\n",
       "      <td>skills_group_0</td>\n",
       "      <td>Crystal</td>\n",
       "    </tr>\n",
       "    <tr>\n",
       "      <th>...</th>\n",
       "      <td>...</td>\n",
       "      <td>...</td>\n",
       "    </tr>\n",
       "    <tr>\n",
       "      <th>120</th>\n",
       "      <td>skills_group_9</td>\n",
       "      <td>Django</td>\n",
       "    </tr>\n",
       "    <tr>\n",
       "      <th>121</th>\n",
       "      <td>skills_group_9</td>\n",
       "      <td>Oracle Cloud Infrastructure</td>\n",
       "    </tr>\n",
       "    <tr>\n",
       "      <th>122</th>\n",
       "      <td>skills_group_9</td>\n",
       "      <td>Oracle</td>\n",
       "    </tr>\n",
       "    <tr>\n",
       "      <th>123</th>\n",
       "      <td>skills_group_9</td>\n",
       "      <td>SQLite</td>\n",
       "    </tr>\n",
       "    <tr>\n",
       "      <th>124</th>\n",
       "      <td>skills_group_9</td>\n",
       "      <td>Xamarin</td>\n",
       "    </tr>\n",
       "  </tbody>\n",
       "</table>\n",
       "<p>125 rows × 2 columns</p>\n",
       "</div>"
      ],
      "text/plain": [
       "         cluster_id                        skill\n",
       "0    skills_group_0                           Qt\n",
       "1    skills_group_0                          APL\n",
       "2    skills_group_0                        COBOL\n",
       "3    skills_group_0                      Clojure\n",
       "4    skills_group_0                      Crystal\n",
       "..              ...                          ...\n",
       "120  skills_group_9                       Django\n",
       "121  skills_group_9  Oracle Cloud Infrastructure\n",
       "122  skills_group_9                       Oracle\n",
       "123  skills_group_9                       SQLite\n",
       "124  skills_group_9                      Xamarin\n",
       "\n",
       "[125 rows x 2 columns]"
      ]
     },
     "execution_count": 11,
     "metadata": {},
     "output_type": "execute_result"
    }
   ],
   "source": [
    "skills_clusters_df = pd.DataFrame([(cluster, skill) for cluster, skills in skills_clusters.items() for skill in skills], columns=['cluster_id', 'skill'])\n",
    "skills_clusters_df"
   ]
  },
  {
   "cell_type": "markdown",
   "id": "81ba28fb",
   "metadata": {},
   "source": [
    "---\n",
    "### Predict Sample entry"
   ]
  },
  {
   "cell_type": "code",
   "execution_count": 12,
   "id": "c5a22d90",
   "metadata": {},
   "outputs": [],
   "source": [
    "\n",
    "def get_skills_clusters(sample_skills, skills_clusters_df, features_names):\n",
    "    \"\"\"\n",
    "    Get the skills clusters.\n",
    "    \n",
    "    Args:\n",
    "        sample_skills: List or Series of skills to cluster\n",
    "        skills_clusters_df: DataFrame mapping skills to clusters\n",
    "        features_names: List of all possible cluster IDs\n",
    "        \n",
    "    Returns:\n",
    "        List of cluster frequencies for the given skills\n",
    "    \"\"\"\n",
    "    # Filter skills that exist in our clusters dataframe\n",
    "    valid_skills = skills_clusters_df[skills_clusters_df['skill'].isin(sample_skills)]\n",
    "    \n",
    "    # Count skills per cluster\n",
    "    clusters_freq = valid_skills['cluster_id'].value_counts().reindex(features_names, fill_value=0)\n",
    "    \n",
    "    return clusters_freq.tolist()\n",
    "\n",
    "def make_predictions(input_data, model, features_names, targets_names, skills_clusters_df):\n",
    "    # Prepare the input data\n",
    "    clusters = get_skills_clusters(input_data, skills_clusters_df, features_names)\n",
    "    input_df = pd.DataFrame([clusters], columns=features_names)\n",
    "    \n",
    "    # Make predictions\n",
    "    predictions = model.predict_proba(input_df)\n",
    "    \n",
    "    positive_probs= [prob[0][1] for prob in predictions]\n",
    "    \n",
    "    return pd.Series(positive_probs, \n",
    "          index=targets_names).sort_values(ascending=False)\n",
    "\n",
    "\n",
    "    \n",
    "\n"
   ]
  },
  {
   "cell_type": "code",
   "execution_count": 13,
   "id": "9a5b69f2",
   "metadata": {},
   "outputs": [
    {
     "name": "stdout",
     "output_type": "stream",
     "text": [
      "Predicted labels:\n",
      " Academic researcher                              0.560942\n",
      "Scientist                                        0.505415\n",
      "Data or business analyst                         0.344776\n",
      "Data scientist or machine learning specialist    0.334833\n",
      "Engineer, data                                   0.076000\n",
      "Developer, back-end                              0.031710\n",
      "Developer, QA or test                            0.022000\n",
      "Developer, embedded applications or devices      0.020333\n",
      "Developer, desktop or enterprise applications    0.017167\n",
      "Database administrator                           0.010286\n",
      "DevOps specialist                                0.008000\n",
      "Developer, full-stack                            0.006000\n",
      "System administrator                             0.005667\n",
      "Developer, front-end                             0.004000\n",
      "Developer, game or graphics                      0.002000\n",
      "Developer, mobile                                0.002000\n",
      "dtype: float64\n"
     ]
    }
   ],
   "source": [
    "sample_skills = pd.Series(['Scala','Python','Keras','Python'])\n",
    "\n",
    "if not all(skill in skills_clusters_df['skill'].values for skill in sample_skills):\n",
    "    print('Invalid skills provided.')\n",
    "else:\n",
    "    predictions = make_predictions(\n",
    "        input_data=sample_skills,\n",
    "        model=classifier,\n",
    "        features_names=features_names,\n",
    "        targets_names=targets_names,\n",
    "        skills_clusters_df=skills_clusters_df\n",
    "    )\n",
    "    print(\"Predicted labels:\\n\", predictions)"
   ]
  },
  {
   "cell_type": "code",
   "execution_count": null,
   "id": "957de88e",
   "metadata": {},
   "outputs": [
    {
     "ename": "ImportError",
     "evalue": "cannot import name 'predict_job_probabilities' from 'predictor' (c:\\Users\\Abdelhakiem\\Documents\\CodingLandscape\\side_projects\\job-skill-matcher\\scripts\\predictor.py)",
     "output_type": "error",
     "traceback": [
      "\u001b[1;31m---------------------------------------------------------------------------\u001b[0m",
      "\u001b[1;31mImportError\u001b[0m                               Traceback (most recent call last)",
      "Cell \u001b[1;32mIn[16], line 10\u001b[0m\n\u001b[0;32m      7\u001b[0m     sys\u001b[38;5;241m.\u001b[39mpath\u001b[38;5;241m.\u001b[39mappend(scripts_path)\n\u001b[0;32m      9\u001b[0m \u001b[38;5;66;03m# Step 2: Import your class\u001b[39;00m\n\u001b[1;32m---> 10\u001b[0m \u001b[38;5;28;01mfrom\u001b[39;00m\u001b[38;5;250m \u001b[39m\u001b[38;5;21;01mpredictor\u001b[39;00m\u001b[38;5;250m \u001b[39m\u001b[38;5;28;01mimport\u001b[39;00m predict_job_probabilities\n",
      "\u001b[1;31mImportError\u001b[0m: cannot import name 'predict_job_probabilities' from 'predictor' (c:\\Users\\Abdelhakiem\\Documents\\CodingLandscape\\side_projects\\job-skill-matcher\\scripts\\predictor.py)"
     ]
    }
   ],
   "source": [
    "import sys\n",
    "import os\n",
    "\n",
    "# Step 1: Add the scripts directory to sys.path\n",
    "scripts_path = os.path.abspath(os.path.join(os.getcwd(), '..', 'scripts'))\n",
    "if scripts_path not in sys.path:\n",
    "    sys.path.append(scripts_path)\n",
    "\n",
    "# Step 2: Import your class\n",
    "from predictor import predict_job_probabilities\n",
    "\n"
   ]
  },
  {
   "cell_type": "code",
   "execution_count": null,
   "id": "36994830",
   "metadata": {},
   "outputs": [],
   "source": [
    "predict_job_probabilities(['Scala','Python','Keras','Python'])\n"
   ]
  },
  {
   "cell_type": "code",
   "execution_count": null,
   "id": "819a9669",
   "metadata": {},
   "outputs": [],
   "source": []
  },
  {
   "cell_type": "code",
   "execution_count": null,
   "id": "75608fb5",
   "metadata": {},
   "outputs": [],
   "source": []
  },
  {
   "cell_type": "code",
   "execution_count": null,
   "id": "340a60a3",
   "metadata": {},
   "outputs": [],
   "source": []
  },
  {
   "cell_type": "code",
   "execution_count": null,
   "id": "0179d89d",
   "metadata": {},
   "outputs": [],
   "source": []
  },
  {
   "cell_type": "code",
   "execution_count": null,
   "id": "b471ac8e",
   "metadata": {},
   "outputs": [],
   "source": []
  },
  {
   "cell_type": "code",
   "execution_count": null,
   "id": "5dba0459",
   "metadata": {},
   "outputs": [],
   "source": []
  },
  {
   "cell_type": "code",
   "execution_count": null,
   "id": "ee27280f",
   "metadata": {},
   "outputs": [],
   "source": []
  },
  {
   "cell_type": "code",
   "execution_count": null,
   "id": "f6103505",
   "metadata": {},
   "outputs": [],
   "source": []
  },
  {
   "cell_type": "code",
   "execution_count": null,
   "id": "fd0d6405",
   "metadata": {},
   "outputs": [],
   "source": []
  },
  {
   "cell_type": "code",
   "execution_count": null,
   "id": "b164a18b",
   "metadata": {},
   "outputs": [],
   "source": []
  },
  {
   "cell_type": "code",
   "execution_count": null,
   "id": "283c7ae8",
   "metadata": {},
   "outputs": [],
   "source": []
  },
  {
   "cell_type": "code",
   "execution_count": null,
   "id": "19f1f7e4",
   "metadata": {},
   "outputs": [],
   "source": []
  },
  {
   "cell_type": "code",
   "execution_count": null,
   "id": "98e56a19",
   "metadata": {},
   "outputs": [],
   "source": []
  },
  {
   "cell_type": "code",
   "execution_count": null,
   "id": "e206f115",
   "metadata": {},
   "outputs": [],
   "source": []
  }
 ],
 "metadata": {
  "kernelspec": {
   "display_name": "Python 3",
   "language": "python",
   "name": "python3"
  },
  "language_info": {
   "codemirror_mode": {
    "name": "ipython",
    "version": 3
   },
   "file_extension": ".py",
   "mimetype": "text/x-python",
   "name": "python",
   "nbconvert_exporter": "python",
   "pygments_lexer": "ipython3",
   "version": "3.13.1"
  }
 },
 "nbformat": 4,
 "nbformat_minor": 5
}
