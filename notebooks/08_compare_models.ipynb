{
 "cells": [
  {
   "cell_type": "code",
   "execution_count": 5,
   "metadata": {},
   "outputs": [],
   "source": [
    "MLFLOW_TRACKING_URI = '../models/mlruns'\n",
    "MLFLOW_EXPERIMENT_NAME = 'skills_jobs_matching'"
   ]
  },
  {
   "cell_type": "code",
   "execution_count": 6,
   "metadata": {},
   "outputs": [],
   "source": [
    "import mlflow\n",
    "from mlflow.tracking import MlflowClient\n",
    "\n",
    "import pandas as pd"
   ]
  },
  {
   "cell_type": "code",
   "execution_count": 7,
   "metadata": {},
   "outputs": [],
   "source": [
    "# Initialize client\n",
    "mlflow.set_tracking_uri(MLFLOW_TRACKING_URI)\n",
    "client = MlflowClient()"
   ]
  },
  {
   "cell_type": "code",
   "execution_count": 8,
   "metadata": {},
   "outputs": [
    {
     "data": {
      "text/plain": [
       "<Experiment: artifact_location='file:c:/Users/Abdelhakiem/Documents/CodingLandscape/side_projects/job-skill-matcher/notebooks/../models/mlruns/344207504652916142', creation_time=1743791483238, experiment_id='344207504652916142', last_update_time=1743791483238, lifecycle_stage='active', name='skills_jobs_matching', tags={}>"
      ]
     },
     "execution_count": 8,
     "metadata": {},
     "output_type": "execute_result"
    }
   ],
   "source": [
    "# Get experiment\n",
    "experiment = client.get_experiment_by_name(MLFLOW_EXPERIMENT_NAME)\n",
    "experiment"
   ]
  },
  {
   "cell_type": "code",
   "execution_count": 10,
   "metadata": {},
   "outputs": [
    {
     "data": {
      "text/html": [
       "<div>\n",
       "<style scoped>\n",
       "    .dataframe tbody tr th:only-of-type {\n",
       "        vertical-align: middle;\n",
       "    }\n",
       "\n",
       "    .dataframe tbody tr th {\n",
       "        vertical-align: top;\n",
       "    }\n",
       "\n",
       "    .dataframe thead th {\n",
       "        text-align: right;\n",
       "    }\n",
       "</style>\n",
       "<table border=\"1\" class=\"dataframe\">\n",
       "  <thead>\n",
       "    <tr style=\"text-align: right;\">\n",
       "      <th></th>\n",
       "      <th>run_id</th>\n",
       "      <th>experiment_id</th>\n",
       "      <th>status</th>\n",
       "      <th>artifact_uri</th>\n",
       "      <th>start_time</th>\n",
       "      <th>end_time</th>\n",
       "      <th>metrics.precision</th>\n",
       "      <th>tags.mlflow.source.name</th>\n",
       "      <th>tags.mlflow.user</th>\n",
       "      <th>tags.mlflow.source.type</th>\n",
       "      <th>tags.mlflow.runName</th>\n",
       "    </tr>\n",
       "  </thead>\n",
       "  <tbody>\n",
       "    <tr>\n",
       "      <th>0</th>\n",
       "      <td>6ddaf4004caf4b8281f56d2021842706</td>\n",
       "      <td>344207504652916142</td>\n",
       "      <td>FINISHED</td>\n",
       "      <td>file:c:/Users/Abdelhakiem/Documents/CodingLand...</td>\n",
       "      <td>2025-04-04 21:27:23.831000+00:00</td>\n",
       "      <td>2025-04-04 21:27:23.885000+00:00</td>\n",
       "      <td>0.806944</td>\n",
       "      <td>C:\\Users\\Abdelhakiem\\AppData\\Roaming\\Python\\Py...</td>\n",
       "      <td>Abdelhakiem</td>\n",
       "      <td>LOCAL</td>\n",
       "      <td>skillful-yak-438</td>\n",
       "    </tr>\n",
       "    <tr>\n",
       "      <th>1</th>\n",
       "      <td>d762556a043e4f3bb98e11eb849289bb</td>\n",
       "      <td>344207504652916142</td>\n",
       "      <td>FINISHED</td>\n",
       "      <td>file:c:/Users/Abdelhakiem/Documents/CodingLand...</td>\n",
       "      <td>2025-04-04 20:39:13.618000+00:00</td>\n",
       "      <td>2025-04-04 20:39:20.763000+00:00</td>\n",
       "      <td>0.888575</td>\n",
       "      <td>C:\\Users\\Abdelhakiem\\AppData\\Roaming\\Python\\Py...</td>\n",
       "      <td>Abdelhakiem</td>\n",
       "      <td>LOCAL</td>\n",
       "      <td>mysterious-snake-200</td>\n",
       "    </tr>\n",
       "    <tr>\n",
       "      <th>2</th>\n",
       "      <td>156da497b9d1457c960ed997f2cd6da8</td>\n",
       "      <td>344207504652916142</td>\n",
       "      <td>FINISHED</td>\n",
       "      <td>file:c:/Users/Abdelhakiem/Documents/CodingLand...</td>\n",
       "      <td>2025-04-04 18:49:38.308000+00:00</td>\n",
       "      <td>2025-04-04 18:49:38.344000+00:00</td>\n",
       "      <td>0.552371</td>\n",
       "      <td>C:\\Users\\Abdelhakiem\\AppData\\Roaming\\Python\\Py...</td>\n",
       "      <td>Abdelhakiem</td>\n",
       "      <td>LOCAL</td>\n",
       "      <td>efficient-gnu-96</td>\n",
       "    </tr>\n",
       "    <tr>\n",
       "      <th>3</th>\n",
       "      <td>26b1d56d10d5443a9305dad31070c567</td>\n",
       "      <td>344207504652916142</td>\n",
       "      <td>FINISHED</td>\n",
       "      <td>file:c:/Users/Abdelhakiem/Documents/CodingLand...</td>\n",
       "      <td>2025-04-04 18:43:57.322000+00:00</td>\n",
       "      <td>2025-04-04 18:43:57.483000+00:00</td>\n",
       "      <td>NaN</td>\n",
       "      <td>C:\\Users\\Abdelhakiem\\AppData\\Roaming\\Python\\Py...</td>\n",
       "      <td>Abdelhakiem</td>\n",
       "      <td>LOCAL</td>\n",
       "      <td>persistent-colt-336</td>\n",
       "    </tr>\n",
       "  </tbody>\n",
       "</table>\n",
       "</div>"
      ],
      "text/plain": [
       "                             run_id       experiment_id    status  \\\n",
       "0  6ddaf4004caf4b8281f56d2021842706  344207504652916142  FINISHED   \n",
       "1  d762556a043e4f3bb98e11eb849289bb  344207504652916142  FINISHED   \n",
       "2  156da497b9d1457c960ed997f2cd6da8  344207504652916142  FINISHED   \n",
       "3  26b1d56d10d5443a9305dad31070c567  344207504652916142  FINISHED   \n",
       "\n",
       "                                        artifact_uri  \\\n",
       "0  file:c:/Users/Abdelhakiem/Documents/CodingLand...   \n",
       "1  file:c:/Users/Abdelhakiem/Documents/CodingLand...   \n",
       "2  file:c:/Users/Abdelhakiem/Documents/CodingLand...   \n",
       "3  file:c:/Users/Abdelhakiem/Documents/CodingLand...   \n",
       "\n",
       "                        start_time                         end_time  \\\n",
       "0 2025-04-04 21:27:23.831000+00:00 2025-04-04 21:27:23.885000+00:00   \n",
       "1 2025-04-04 20:39:13.618000+00:00 2025-04-04 20:39:20.763000+00:00   \n",
       "2 2025-04-04 18:49:38.308000+00:00 2025-04-04 18:49:38.344000+00:00   \n",
       "3 2025-04-04 18:43:57.322000+00:00 2025-04-04 18:43:57.483000+00:00   \n",
       "\n",
       "   metrics.precision                            tags.mlflow.source.name  \\\n",
       "0           0.806944  C:\\Users\\Abdelhakiem\\AppData\\Roaming\\Python\\Py...   \n",
       "1           0.888575  C:\\Users\\Abdelhakiem\\AppData\\Roaming\\Python\\Py...   \n",
       "2           0.552371  C:\\Users\\Abdelhakiem\\AppData\\Roaming\\Python\\Py...   \n",
       "3                NaN  C:\\Users\\Abdelhakiem\\AppData\\Roaming\\Python\\Py...   \n",
       "\n",
       "  tags.mlflow.user tags.mlflow.source.type   tags.mlflow.runName  \n",
       "0      Abdelhakiem                   LOCAL      skillful-yak-438  \n",
       "1      Abdelhakiem                   LOCAL  mysterious-snake-200  \n",
       "2      Abdelhakiem                   LOCAL      efficient-gnu-96  \n",
       "3      Abdelhakiem                   LOCAL   persistent-colt-336  "
      ]
     },
     "execution_count": 10,
     "metadata": {},
     "output_type": "execute_result"
    }
   ],
   "source": [
    "# Get all runs\n",
    "runs = mlflow.search_runs([experiment.experiment_id])\n",
    "runs"
   ]
  },
  {
   "cell_type": "markdown",
   "metadata": {},
   "source": []
  }
 ],
 "metadata": {
  "kernelspec": {
   "display_name": "Python 3",
   "language": "python",
   "name": "python3"
  },
  "language_info": {
   "codemirror_mode": {
    "name": "ipython",
    "version": 3
   },
   "file_extension": ".py",
   "mimetype": "text/x-python",
   "name": "python",
   "nbconvert_exporter": "python",
   "pygments_lexer": "ipython3",
   "version": "3.13.1"
  }
 },
 "nbformat": 4,
 "nbformat_minor": 2
}
