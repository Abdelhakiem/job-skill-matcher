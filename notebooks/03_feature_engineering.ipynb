{
 "cells": [
  {
   "cell_type": "code",
   "execution_count": 14,
   "metadata": {},
   "outputs": [],
   "source": [
    "import pandas as pd\n",
    "import numpy as np\n",
    "import feature_engine \n",
    "import pickle\n",
    "import matplotlib.pyplot as plt\n",
    "import plotly.express as px\n"
   ]
  },
  {
   "cell_type": "code",
   "execution_count": 95,
   "metadata": {},
   "outputs": [],
   "source": [
    "ENCODED_DATA_PATH = '../data/processed/1_encoded_df.pkl'\n",
    "TARGET_COL = 'DevType'\n",
    "CLUSTERED_DF_PATH = '../data/processed/1_clustered_skills_df.pkl'"
   ]
  },
  {
   "cell_type": "code",
   "execution_count": 3,
   "metadata": {},
   "outputs": [
    {
     "data": {
      "text/html": [
       "<div>\n",
       "<style scoped>\n",
       "    .dataframe tbody tr th:only-of-type {\n",
       "        vertical-align: middle;\n",
       "    }\n",
       "\n",
       "    .dataframe tbody tr th {\n",
       "        vertical-align: top;\n",
       "    }\n",
       "\n",
       "    .dataframe thead tr th {\n",
       "        text-align: left;\n",
       "    }\n",
       "</style>\n",
       "<table border=\"1\" class=\"dataframe\">\n",
       "  <thead>\n",
       "    <tr>\n",
       "      <th></th>\n",
       "      <th colspan=\"10\" halign=\"left\">LanguageHaveWorkedWith</th>\n",
       "      <th>...</th>\n",
       "      <th colspan=\"10\" halign=\"left\">DevType</th>\n",
       "    </tr>\n",
       "    <tr>\n",
       "      <th></th>\n",
       "      <th>APL</th>\n",
       "      <th>Assembly</th>\n",
       "      <th>Bash/Shell</th>\n",
       "      <th>C</th>\n",
       "      <th>C#</th>\n",
       "      <th>C++</th>\n",
       "      <th>COBOL</th>\n",
       "      <th>Clojure</th>\n",
       "      <th>Crystal</th>\n",
       "      <th>Dart</th>\n",
       "      <th>...</th>\n",
       "      <th>Engineer, data</th>\n",
       "      <th>Engineer, site reliability</th>\n",
       "      <th>Engineering manager</th>\n",
       "      <th>Marketing or sales professional</th>\n",
       "      <th>Other (please specify):</th>\n",
       "      <th>Product manager</th>\n",
       "      <th>Scientist</th>\n",
       "      <th>Senior Executive (C-Suite, VP, etc.)</th>\n",
       "      <th>Student</th>\n",
       "      <th>System administrator</th>\n",
       "    </tr>\n",
       "  </thead>\n",
       "  <tbody>\n",
       "    <tr>\n",
       "      <th>0</th>\n",
       "      <td>0</td>\n",
       "      <td>0</td>\n",
       "      <td>0</td>\n",
       "      <td>0</td>\n",
       "      <td>0</td>\n",
       "      <td>1</td>\n",
       "      <td>0</td>\n",
       "      <td>0</td>\n",
       "      <td>0</td>\n",
       "      <td>0</td>\n",
       "      <td>...</td>\n",
       "      <td>0</td>\n",
       "      <td>0</td>\n",
       "      <td>0</td>\n",
       "      <td>0</td>\n",
       "      <td>0</td>\n",
       "      <td>0</td>\n",
       "      <td>0</td>\n",
       "      <td>0</td>\n",
       "      <td>0</td>\n",
       "      <td>0</td>\n",
       "    </tr>\n",
       "    <tr>\n",
       "      <th>1</th>\n",
       "      <td>0</td>\n",
       "      <td>0</td>\n",
       "      <td>0</td>\n",
       "      <td>0</td>\n",
       "      <td>0</td>\n",
       "      <td>0</td>\n",
       "      <td>0</td>\n",
       "      <td>0</td>\n",
       "      <td>0</td>\n",
       "      <td>0</td>\n",
       "      <td>...</td>\n",
       "      <td>0</td>\n",
       "      <td>0</td>\n",
       "      <td>0</td>\n",
       "      <td>0</td>\n",
       "      <td>0</td>\n",
       "      <td>0</td>\n",
       "      <td>0</td>\n",
       "      <td>0</td>\n",
       "      <td>0</td>\n",
       "      <td>0</td>\n",
       "    </tr>\n",
       "    <tr>\n",
       "      <th>2</th>\n",
       "      <td>0</td>\n",
       "      <td>1</td>\n",
       "      <td>0</td>\n",
       "      <td>1</td>\n",
       "      <td>0</td>\n",
       "      <td>0</td>\n",
       "      <td>0</td>\n",
       "      <td>0</td>\n",
       "      <td>0</td>\n",
       "      <td>0</td>\n",
       "      <td>...</td>\n",
       "      <td>0</td>\n",
       "      <td>0</td>\n",
       "      <td>0</td>\n",
       "      <td>0</td>\n",
       "      <td>0</td>\n",
       "      <td>0</td>\n",
       "      <td>0</td>\n",
       "      <td>0</td>\n",
       "      <td>0</td>\n",
       "      <td>0</td>\n",
       "    </tr>\n",
       "    <tr>\n",
       "      <th>3</th>\n",
       "      <td>0</td>\n",
       "      <td>0</td>\n",
       "      <td>0</td>\n",
       "      <td>0</td>\n",
       "      <td>0</td>\n",
       "      <td>0</td>\n",
       "      <td>0</td>\n",
       "      <td>0</td>\n",
       "      <td>0</td>\n",
       "      <td>0</td>\n",
       "      <td>...</td>\n",
       "      <td>0</td>\n",
       "      <td>0</td>\n",
       "      <td>0</td>\n",
       "      <td>0</td>\n",
       "      <td>0</td>\n",
       "      <td>0</td>\n",
       "      <td>0</td>\n",
       "      <td>0</td>\n",
       "      <td>0</td>\n",
       "      <td>0</td>\n",
       "    </tr>\n",
       "    <tr>\n",
       "      <th>4</th>\n",
       "      <td>0</td>\n",
       "      <td>0</td>\n",
       "      <td>1</td>\n",
       "      <td>0</td>\n",
       "      <td>0</td>\n",
       "      <td>0</td>\n",
       "      <td>0</td>\n",
       "      <td>0</td>\n",
       "      <td>0</td>\n",
       "      <td>0</td>\n",
       "      <td>...</td>\n",
       "      <td>1</td>\n",
       "      <td>0</td>\n",
       "      <td>0</td>\n",
       "      <td>0</td>\n",
       "      <td>1</td>\n",
       "      <td>0</td>\n",
       "      <td>0</td>\n",
       "      <td>0</td>\n",
       "      <td>0</td>\n",
       "      <td>0</td>\n",
       "    </tr>\n",
       "  </tbody>\n",
       "</table>\n",
       "<p>5 rows × 150 columns</p>\n",
       "</div>"
      ],
      "text/plain": [
       "  LanguageHaveWorkedWith                                                      \\\n",
       "                     APL Assembly Bash/Shell  C C# C++ COBOL Clojure Crystal   \n",
       "0                      0        0          0  0  0   1     0       0       0   \n",
       "1                      0        0          0  0  0   0     0       0       0   \n",
       "2                      0        1          0  1  0   0     0       0       0   \n",
       "3                      0        0          0  0  0   0     0       0       0   \n",
       "4                      0        0          1  0  0   0     0       0       0   \n",
       "\n",
       "        ...        DevType                                                 \\\n",
       "  Dart  ... Engineer, data Engineer, site reliability Engineering manager   \n",
       "0    0  ...              0                          0                   0   \n",
       "1    0  ...              0                          0                   0   \n",
       "2    0  ...              0                          0                   0   \n",
       "3    0  ...              0                          0                   0   \n",
       "4    0  ...              1                          0                   0   \n",
       "\n",
       "                                                                           \\\n",
       "  Marketing or sales professional Other (please specify): Product manager   \n",
       "0                               0                       0               0   \n",
       "1                               0                       0               0   \n",
       "2                               0                       0               0   \n",
       "3                               0                       0               0   \n",
       "4                               0                       1               0   \n",
       "\n",
       "                                                                               \n",
       "  Scientist Senior Executive (C-Suite, VP, etc.) Student System administrator  \n",
       "0         0                                    0       0                    0  \n",
       "1         0                                    0       0                    0  \n",
       "2         0                                    0       0                    0  \n",
       "3         0                                    0       0                    0  \n",
       "4         0                                    0       0                    0  \n",
       "\n",
       "[5 rows x 150 columns]"
      ]
     },
     "execution_count": 3,
     "metadata": {},
     "output_type": "execute_result"
    }
   ],
   "source": [
    "df = pd.read_pickle(ENCODED_DATA_PATH)\n",
    "df.head()"
   ]
  },
  {
   "cell_type": "markdown",
   "metadata": {},
   "source": [
    "### Skills Associations -> Clustering"
   ]
  },
  {
   "cell_type": "code",
   "execution_count": null,
   "metadata": {},
   "outputs": [],
   "source": [
    "from sklearn.manifold import TSNE\n",
    "from sklearn.preprocessing import StandardScaler\n",
    "skill_groups = set([ group  for group,col in df.drop('DevType',axis=1).columns ])\n",
    "skills_df = pd.concat([ df.loc[:,group]  for group in skill_groups ],axis=1)\n"
   ]
  },
  {
   "cell_type": "code",
   "execution_count": 16,
   "metadata": {},
   "outputs": [
    {
     "name": "stderr",
     "output_type": "stream",
     "text": [
      "c:\\Users\\Abdelhakiem\\AppData\\Local\\Programs\\Python\\Python313\\Lib\\site-packages\\sklearn\\manifold\\_t_sne.py:1164: FutureWarning: 'n_iter' was renamed to 'max_iter' in version 1.5 and will be removed in 1.7.\n",
      "  warnings.warn(\n"
     ]
    }
   ],
   "source": [
    "\n",
    "tsne = TSNE(n_components=2,\n",
    "                       perplexity=3,\n",
    "                       learning_rate=0.01,\n",
    "                       init='pca', \n",
    "                       method='barnes_hut', \n",
    "                       n_jobs=-1, \n",
    "                       n_iter=10**10,\n",
    "                        random_state=42)\n",
    "reduced_data = tsne.fit_transform(skills_df.T)\n"
   ]
  },
  {
   "cell_type": "code",
   "execution_count": 22,
   "metadata": {},
   "outputs": [
    {
     "data": {
      "text/html": [
       "<div>\n",
       "<style scoped>\n",
       "    .dataframe tbody tr th:only-of-type {\n",
       "        vertical-align: middle;\n",
       "    }\n",
       "\n",
       "    .dataframe tbody tr th {\n",
       "        vertical-align: top;\n",
       "    }\n",
       "\n",
       "    .dataframe thead th {\n",
       "        text-align: right;\n",
       "    }\n",
       "</style>\n",
       "<table border=\"1\" class=\"dataframe\">\n",
       "  <thead>\n",
       "    <tr style=\"text-align: right;\">\n",
       "      <th></th>\n",
       "      <th>0</th>\n",
       "      <th>1</th>\n",
       "    </tr>\n",
       "  </thead>\n",
       "  <tbody>\n",
       "    <tr>\n",
       "      <th>Cassandra</th>\n",
       "      <td>0.503655</td>\n",
       "      <td>-2.268087</td>\n",
       "    </tr>\n",
       "    <tr>\n",
       "      <th>Couchbase</th>\n",
       "      <td>2.802016</td>\n",
       "      <td>-3.386829</td>\n",
       "    </tr>\n",
       "    <tr>\n",
       "      <th>DynamoDB</th>\n",
       "      <td>7.568566</td>\n",
       "      <td>-9.652098</td>\n",
       "    </tr>\n",
       "    <tr>\n",
       "      <th>Elasticsearch</th>\n",
       "      <td>3.935895</td>\n",
       "      <td>-14.168550</td>\n",
       "    </tr>\n",
       "    <tr>\n",
       "      <th>Firebase</th>\n",
       "      <td>-23.922806</td>\n",
       "      <td>1.010241</td>\n",
       "    </tr>\n",
       "    <tr>\n",
       "      <th>...</th>\n",
       "      <td>...</td>\n",
       "      <td>...</td>\n",
       "    </tr>\n",
       "    <tr>\n",
       "      <th>Vim</th>\n",
       "      <td>-10.665123</td>\n",
       "      <td>-5.848335</td>\n",
       "    </tr>\n",
       "    <tr>\n",
       "      <th>Visual Studio</th>\n",
       "      <td>11.550916</td>\n",
       "      <td>29.808064</td>\n",
       "    </tr>\n",
       "    <tr>\n",
       "      <th>Visual Studio Code</th>\n",
       "      <td>29.907810</td>\n",
       "      <td>7.617950</td>\n",
       "    </tr>\n",
       "    <tr>\n",
       "      <th>Webstorm</th>\n",
       "      <td>4.146099</td>\n",
       "      <td>1.499286</td>\n",
       "    </tr>\n",
       "    <tr>\n",
       "      <th>Xcode</th>\n",
       "      <td>-9.171359</td>\n",
       "      <td>12.662939</td>\n",
       "    </tr>\n",
       "  </tbody>\n",
       "</table>\n",
       "<p>125 rows × 2 columns</p>\n",
       "</div>"
      ],
      "text/plain": [
       "                            0          1\n",
       "Cassandra            0.503655  -2.268087\n",
       "Couchbase            2.802016  -3.386829\n",
       "DynamoDB             7.568566  -9.652098\n",
       "Elasticsearch        3.935895 -14.168550\n",
       "Firebase           -23.922806   1.010241\n",
       "...                       ...        ...\n",
       "Vim                -10.665123  -5.848335\n",
       "Visual Studio       11.550916  29.808064\n",
       "Visual Studio Code  29.907810   7.617950\n",
       "Webstorm             4.146099   1.499286\n",
       "Xcode               -9.171359  12.662939\n",
       "\n",
       "[125 rows x 2 columns]"
      ]
     },
     "execution_count": 22,
     "metadata": {},
     "output_type": "execute_result"
    }
   ],
   "source": [
    "reduced_data = pd.DataFrame(reduced_data, index=skills_df.columns)\n",
    "reduced_data"
   ]
  },
  {
   "cell_type": "code",
   "execution_count": 28,
   "metadata": {},
   "outputs": [
    {
     "data": {
      "application/vnd.plotly.v1+json": {
       "config": {
        "plotlyServerURL": "https://plot.ly"
       },
       "data": [
        {
         "hovertemplate": "x=%{x}<br>y=%{y}<br>text=%{text}<extra></extra>",
         "legendgroup": "",
         "marker": {
          "color": "#636efa",
          "symbol": "circle"
         },
         "mode": "markers+text",
         "name": "",
         "orientation": "v",
         "showlegend": false,
         "text": [
          "Cassandra",
          "Couchbase",
          "DynamoDB",
          "Elasticsearch",
          "Firebase",
          "IBM DB2",
          "MariaDB",
          "Microsoft SQL Server",
          "MongoDB",
          "MySQL",
          "Oracle",
          "PostgreSQL",
          "Redis",
          "SQLite",
          "AWS",
          "DigitalOcean",
          "Google Cloud Platform",
          "Heroku",
          "IBM Cloud or Watson",
          "Microsoft Azure",
          "Oracle Cloud Infrastructure",
          ".NET Core / .NET 5",
          ".NET Framework",
          "Apache Spark",
          "Cordova",
          "Flutter",
          "Hadoop",
          "Keras",
          "NumPy",
          "Pandas",
          "Qt",
          "React Native",
          "TensorFlow",
          "Torch/PyTorch",
          "Ansible",
          "Chef",
          "Deno",
          "Docker",
          "Flow",
          "Git",
          "Kubernetes",
          "Pulumi",
          "Puppet",
          "Terraform",
          "Unity 3D",
          "Unreal Engine",
          "Xamarin",
          "Yarn",
          "APL",
          "Assembly",
          "Bash/Shell",
          "C",
          "C#",
          "C++",
          "COBOL",
          "Clojure",
          "Crystal",
          "Dart",
          "Delphi",
          "Elixir",
          "Erlang",
          "F#",
          "Go",
          "Groovy",
          "HTML/CSS",
          "Haskell",
          "Java",
          "JavaScript",
          "Julia",
          "Kotlin",
          "LISP",
          "Matlab",
          "Node.js",
          "Objective-C",
          "PHP",
          "Perl",
          "PowerShell",
          "Python",
          "R",
          "Ruby",
          "Rust",
          "SQL",
          "Scala",
          "Swift",
          "TypeScript",
          "VBA",
          "ASP.NET",
          "ASP.NET Core ",
          "Angular",
          "Angular.js",
          "Django",
          "Drupal",
          "Express",
          "FastAPI",
          "Flask",
          "Gatsby",
          "Laravel",
          "React.js",
          "Ruby on Rails",
          "Spring",
          "Svelte",
          "Symfony",
          "Vue.js",
          "jQuery",
          "Android Studio",
          "Atom",
          "Eclipse",
          "Emacs",
          "IPython/Jupyter",
          "IntelliJ",
          "Neovim",
          "NetBeans",
          "Notepad++",
          "PHPStorm",
          "PyCharm",
          "RStudio",
          "Rider",
          "RubyMine",
          "Sublime Text",
          "TextMate",
          "Vim",
          "Visual Studio",
          "Visual Studio Code",
          "Webstorm",
          "Xcode"
         ],
         "type": "scatter",
         "x": {
          "bdata": "j+8APz1UM0CyMfJAtOV7QOhhv8EqA4fAnbvdQCjfKEE0nnhBUxssQeBBg8D3ta9AW/WVQA2bML1wQgFBLoa5v/2lyMEhDlZA09/PPz1A/0CmxmzAA5gdQV4TNEFNsAPBdgrdQI0ersHC9vXASNb7vyyRb8BZBl/AEBxwwLLfJ0HN6tC/H/MqwFxUlj9CoBZArgr0QHJpDkHkfwY/EofxQTsxGEHz/RO/7XDNPvRhGUEqXV/Be6lSwVyYLj8AKz1BASWXv6xJdsGdpWfBlaSXwe6/LkF1IpnBO+0cwLGuAcG/xMu/wMCxwQsgdcBMvZDAqlN2wJImBD/zboq/xDlVwKQI30Gz0O+/vlWMwZx84UHP5MTAEn+NwUjtK8FSiKvA2fxxQS9s9sApFilBrP7EwEs30r+hQJnAnfi4wfBkScHsRJ9AV/wvQWur9r7lIAfBNoZhQTP3HMB/0SZB4HIZQbAXUEEbMD1B4K/ivvbDk0CCTWlBV4iYwK/wrsA8s0tBRT8WQfi7QUGRIEnBb0iAwQ6qGEAaSPNAq7LLQLm7OEGKSJ7BAuUIwRGNn8D08jnB4V1EwOQ1isHEHxzBaGOJwDBLgsD0mgVBoB+FwOLyuMFQKRVAc+MRQJm2AsG2QP3AWKQqwY3QOEEyQ+9B16yEQOO9EsE=",
          "dtype": "f4"
         },
         "xaxis": "x",
         "y": {
          "bdata": "VigRwM3BWMD+bhrBYrJiwZVPgT9k1khA5tYlQT7LwUFPj2jANlSOQRzx9kDALYHBa8Zzwbr6M0Ee2ynBvvYswLiMmD92c+TATUiXP4n8z0H499dAZSTaQbmc3EHpmC7Bl8VHQGu3Lz+ctiLBoLi0wWFs2cH/mtfB8RZQwMdOrr6D8bbBaagtwQbINcFZkDjBj25QwDYogsFxAve+FnDsQGiGcMHx256/hCmIwLNuXsGH4qVAJACXQAKh7EDqnZHATQT1vc7TE8GC5BzB5mIlwfy05kEeLibBwk9/Pg+gyr8bYZ2/659AP66vKT9zFOrAbDvPwAYacUC8P+bAj6idv1HMBUGtuZTAvRldQUbcA0GWSYDAh1RgPkkutL44Aoe/hDPJv6YUMUGWo4FB9WqUP+OAiEAnTuDBBL6mwZmCp8HgBKS/kOibQbTAyT+i+j1BzrSLQMKx2j/HmM5BhzHTQUPnmUBAh6NAu+QkQZwI0ECOSjLA0CGEwThifsEQtIPAv0xzQZKkbb8Vd6fBggZCQWgljL+cpDNBioOPwOldeEGwKN4+piFvQDwcjkHFcU6/89iswUMrV0FI97DApJiJQf+plUGZvEJBaSKawSm/psGns4RA7EnJwIfVv0ASU5tAjyW7wOp27kFAxvNAmei/P2abSkE=",
          "dtype": "f4"
         },
         "yaxis": "y"
        }
       ],
       "layout": {
        "legend": {
         "tracegroupgap": 0
        },
        "margin": {
         "t": 60
        },
        "template": {
         "data": {
          "bar": [
           {
            "error_x": {
             "color": "#2a3f5f"
            },
            "error_y": {
             "color": "#2a3f5f"
            },
            "marker": {
             "line": {
              "color": "#E5ECF6",
              "width": 0.5
             },
             "pattern": {
              "fillmode": "overlay",
              "size": 10,
              "solidity": 0.2
             }
            },
            "type": "bar"
           }
          ],
          "barpolar": [
           {
            "marker": {
             "line": {
              "color": "#E5ECF6",
              "width": 0.5
             },
             "pattern": {
              "fillmode": "overlay",
              "size": 10,
              "solidity": 0.2
             }
            },
            "type": "barpolar"
           }
          ],
          "carpet": [
           {
            "aaxis": {
             "endlinecolor": "#2a3f5f",
             "gridcolor": "white",
             "linecolor": "white",
             "minorgridcolor": "white",
             "startlinecolor": "#2a3f5f"
            },
            "baxis": {
             "endlinecolor": "#2a3f5f",
             "gridcolor": "white",
             "linecolor": "white",
             "minorgridcolor": "white",
             "startlinecolor": "#2a3f5f"
            },
            "type": "carpet"
           }
          ],
          "choropleth": [
           {
            "colorbar": {
             "outlinewidth": 0,
             "ticks": ""
            },
            "type": "choropleth"
           }
          ],
          "contour": [
           {
            "colorbar": {
             "outlinewidth": 0,
             "ticks": ""
            },
            "colorscale": [
             [
              0,
              "#0d0887"
             ],
             [
              0.1111111111111111,
              "#46039f"
             ],
             [
              0.2222222222222222,
              "#7201a8"
             ],
             [
              0.3333333333333333,
              "#9c179e"
             ],
             [
              0.4444444444444444,
              "#bd3786"
             ],
             [
              0.5555555555555556,
              "#d8576b"
             ],
             [
              0.6666666666666666,
              "#ed7953"
             ],
             [
              0.7777777777777778,
              "#fb9f3a"
             ],
             [
              0.8888888888888888,
              "#fdca26"
             ],
             [
              1,
              "#f0f921"
             ]
            ],
            "type": "contour"
           }
          ],
          "contourcarpet": [
           {
            "colorbar": {
             "outlinewidth": 0,
             "ticks": ""
            },
            "type": "contourcarpet"
           }
          ],
          "heatmap": [
           {
            "colorbar": {
             "outlinewidth": 0,
             "ticks": ""
            },
            "colorscale": [
             [
              0,
              "#0d0887"
             ],
             [
              0.1111111111111111,
              "#46039f"
             ],
             [
              0.2222222222222222,
              "#7201a8"
             ],
             [
              0.3333333333333333,
              "#9c179e"
             ],
             [
              0.4444444444444444,
              "#bd3786"
             ],
             [
              0.5555555555555556,
              "#d8576b"
             ],
             [
              0.6666666666666666,
              "#ed7953"
             ],
             [
              0.7777777777777778,
              "#fb9f3a"
             ],
             [
              0.8888888888888888,
              "#fdca26"
             ],
             [
              1,
              "#f0f921"
             ]
            ],
            "type": "heatmap"
           }
          ],
          "histogram": [
           {
            "marker": {
             "pattern": {
              "fillmode": "overlay",
              "size": 10,
              "solidity": 0.2
             }
            },
            "type": "histogram"
           }
          ],
          "histogram2d": [
           {
            "colorbar": {
             "outlinewidth": 0,
             "ticks": ""
            },
            "colorscale": [
             [
              0,
              "#0d0887"
             ],
             [
              0.1111111111111111,
              "#46039f"
             ],
             [
              0.2222222222222222,
              "#7201a8"
             ],
             [
              0.3333333333333333,
              "#9c179e"
             ],
             [
              0.4444444444444444,
              "#bd3786"
             ],
             [
              0.5555555555555556,
              "#d8576b"
             ],
             [
              0.6666666666666666,
              "#ed7953"
             ],
             [
              0.7777777777777778,
              "#fb9f3a"
             ],
             [
              0.8888888888888888,
              "#fdca26"
             ],
             [
              1,
              "#f0f921"
             ]
            ],
            "type": "histogram2d"
           }
          ],
          "histogram2dcontour": [
           {
            "colorbar": {
             "outlinewidth": 0,
             "ticks": ""
            },
            "colorscale": [
             [
              0,
              "#0d0887"
             ],
             [
              0.1111111111111111,
              "#46039f"
             ],
             [
              0.2222222222222222,
              "#7201a8"
             ],
             [
              0.3333333333333333,
              "#9c179e"
             ],
             [
              0.4444444444444444,
              "#bd3786"
             ],
             [
              0.5555555555555556,
              "#d8576b"
             ],
             [
              0.6666666666666666,
              "#ed7953"
             ],
             [
              0.7777777777777778,
              "#fb9f3a"
             ],
             [
              0.8888888888888888,
              "#fdca26"
             ],
             [
              1,
              "#f0f921"
             ]
            ],
            "type": "histogram2dcontour"
           }
          ],
          "mesh3d": [
           {
            "colorbar": {
             "outlinewidth": 0,
             "ticks": ""
            },
            "type": "mesh3d"
           }
          ],
          "parcoords": [
           {
            "line": {
             "colorbar": {
              "outlinewidth": 0,
              "ticks": ""
             }
            },
            "type": "parcoords"
           }
          ],
          "pie": [
           {
            "automargin": true,
            "type": "pie"
           }
          ],
          "scatter": [
           {
            "fillpattern": {
             "fillmode": "overlay",
             "size": 10,
             "solidity": 0.2
            },
            "type": "scatter"
           }
          ],
          "scatter3d": [
           {
            "line": {
             "colorbar": {
              "outlinewidth": 0,
              "ticks": ""
             }
            },
            "marker": {
             "colorbar": {
              "outlinewidth": 0,
              "ticks": ""
             }
            },
            "type": "scatter3d"
           }
          ],
          "scattercarpet": [
           {
            "marker": {
             "colorbar": {
              "outlinewidth": 0,
              "ticks": ""
             }
            },
            "type": "scattercarpet"
           }
          ],
          "scattergeo": [
           {
            "marker": {
             "colorbar": {
              "outlinewidth": 0,
              "ticks": ""
             }
            },
            "type": "scattergeo"
           }
          ],
          "scattergl": [
           {
            "marker": {
             "colorbar": {
              "outlinewidth": 0,
              "ticks": ""
             }
            },
            "type": "scattergl"
           }
          ],
          "scattermap": [
           {
            "marker": {
             "colorbar": {
              "outlinewidth": 0,
              "ticks": ""
             }
            },
            "type": "scattermap"
           }
          ],
          "scattermapbox": [
           {
            "marker": {
             "colorbar": {
              "outlinewidth": 0,
              "ticks": ""
             }
            },
            "type": "scattermapbox"
           }
          ],
          "scatterpolar": [
           {
            "marker": {
             "colorbar": {
              "outlinewidth": 0,
              "ticks": ""
             }
            },
            "type": "scatterpolar"
           }
          ],
          "scatterpolargl": [
           {
            "marker": {
             "colorbar": {
              "outlinewidth": 0,
              "ticks": ""
             }
            },
            "type": "scatterpolargl"
           }
          ],
          "scatterternary": [
           {
            "marker": {
             "colorbar": {
              "outlinewidth": 0,
              "ticks": ""
             }
            },
            "type": "scatterternary"
           }
          ],
          "surface": [
           {
            "colorbar": {
             "outlinewidth": 0,
             "ticks": ""
            },
            "colorscale": [
             [
              0,
              "#0d0887"
             ],
             [
              0.1111111111111111,
              "#46039f"
             ],
             [
              0.2222222222222222,
              "#7201a8"
             ],
             [
              0.3333333333333333,
              "#9c179e"
             ],
             [
              0.4444444444444444,
              "#bd3786"
             ],
             [
              0.5555555555555556,
              "#d8576b"
             ],
             [
              0.6666666666666666,
              "#ed7953"
             ],
             [
              0.7777777777777778,
              "#fb9f3a"
             ],
             [
              0.8888888888888888,
              "#fdca26"
             ],
             [
              1,
              "#f0f921"
             ]
            ],
            "type": "surface"
           }
          ],
          "table": [
           {
            "cells": {
             "fill": {
              "color": "#EBF0F8"
             },
             "line": {
              "color": "white"
             }
            },
            "header": {
             "fill": {
              "color": "#C8D4E3"
             },
             "line": {
              "color": "white"
             }
            },
            "type": "table"
           }
          ]
         },
         "layout": {
          "annotationdefaults": {
           "arrowcolor": "#2a3f5f",
           "arrowhead": 0,
           "arrowwidth": 1
          },
          "autotypenumbers": "strict",
          "coloraxis": {
           "colorbar": {
            "outlinewidth": 0,
            "ticks": ""
           }
          },
          "colorscale": {
           "diverging": [
            [
             0,
             "#8e0152"
            ],
            [
             0.1,
             "#c51b7d"
            ],
            [
             0.2,
             "#de77ae"
            ],
            [
             0.3,
             "#f1b6da"
            ],
            [
             0.4,
             "#fde0ef"
            ],
            [
             0.5,
             "#f7f7f7"
            ],
            [
             0.6,
             "#e6f5d0"
            ],
            [
             0.7,
             "#b8e186"
            ],
            [
             0.8,
             "#7fbc41"
            ],
            [
             0.9,
             "#4d9221"
            ],
            [
             1,
             "#276419"
            ]
           ],
           "sequential": [
            [
             0,
             "#0d0887"
            ],
            [
             0.1111111111111111,
             "#46039f"
            ],
            [
             0.2222222222222222,
             "#7201a8"
            ],
            [
             0.3333333333333333,
             "#9c179e"
            ],
            [
             0.4444444444444444,
             "#bd3786"
            ],
            [
             0.5555555555555556,
             "#d8576b"
            ],
            [
             0.6666666666666666,
             "#ed7953"
            ],
            [
             0.7777777777777778,
             "#fb9f3a"
            ],
            [
             0.8888888888888888,
             "#fdca26"
            ],
            [
             1,
             "#f0f921"
            ]
           ],
           "sequentialminus": [
            [
             0,
             "#0d0887"
            ],
            [
             0.1111111111111111,
             "#46039f"
            ],
            [
             0.2222222222222222,
             "#7201a8"
            ],
            [
             0.3333333333333333,
             "#9c179e"
            ],
            [
             0.4444444444444444,
             "#bd3786"
            ],
            [
             0.5555555555555556,
             "#d8576b"
            ],
            [
             0.6666666666666666,
             "#ed7953"
            ],
            [
             0.7777777777777778,
             "#fb9f3a"
            ],
            [
             0.8888888888888888,
             "#fdca26"
            ],
            [
             1,
             "#f0f921"
            ]
           ]
          },
          "colorway": [
           "#636efa",
           "#EF553B",
           "#00cc96",
           "#ab63fa",
           "#FFA15A",
           "#19d3f3",
           "#FF6692",
           "#B6E880",
           "#FF97FF",
           "#FECB52"
          ],
          "font": {
           "color": "#2a3f5f"
          },
          "geo": {
           "bgcolor": "white",
           "lakecolor": "white",
           "landcolor": "#E5ECF6",
           "showlakes": true,
           "showland": true,
           "subunitcolor": "white"
          },
          "hoverlabel": {
           "align": "left"
          },
          "hovermode": "closest",
          "mapbox": {
           "style": "light"
          },
          "paper_bgcolor": "white",
          "plot_bgcolor": "#E5ECF6",
          "polar": {
           "angularaxis": {
            "gridcolor": "white",
            "linecolor": "white",
            "ticks": ""
           },
           "bgcolor": "#E5ECF6",
           "radialaxis": {
            "gridcolor": "white",
            "linecolor": "white",
            "ticks": ""
           }
          },
          "scene": {
           "xaxis": {
            "backgroundcolor": "#E5ECF6",
            "gridcolor": "white",
            "gridwidth": 2,
            "linecolor": "white",
            "showbackground": true,
            "ticks": "",
            "zerolinecolor": "white"
           },
           "yaxis": {
            "backgroundcolor": "#E5ECF6",
            "gridcolor": "white",
            "gridwidth": 2,
            "linecolor": "white",
            "showbackground": true,
            "ticks": "",
            "zerolinecolor": "white"
           },
           "zaxis": {
            "backgroundcolor": "#E5ECF6",
            "gridcolor": "white",
            "gridwidth": 2,
            "linecolor": "white",
            "showbackground": true,
            "ticks": "",
            "zerolinecolor": "white"
           }
          },
          "shapedefaults": {
           "line": {
            "color": "#2a3f5f"
           }
          },
          "ternary": {
           "aaxis": {
            "gridcolor": "white",
            "linecolor": "white",
            "ticks": ""
           },
           "baxis": {
            "gridcolor": "white",
            "linecolor": "white",
            "ticks": ""
           },
           "bgcolor": "#E5ECF6",
           "caxis": {
            "gridcolor": "white",
            "linecolor": "white",
            "ticks": ""
           }
          },
          "title": {
           "x": 0.05
          },
          "xaxis": {
           "automargin": true,
           "gridcolor": "white",
           "linecolor": "white",
           "ticks": "",
           "title": {
            "standoff": 15
           },
           "zerolinecolor": "white",
           "zerolinewidth": 2
          },
          "yaxis": {
           "automargin": true,
           "gridcolor": "white",
           "linecolor": "white",
           "ticks": "",
           "title": {
            "standoff": 15
           },
           "zerolinecolor": "white",
           "zerolinewidth": 2
          }
         }
        },
        "title": {
         "text": "t-SNE visualization of Skills"
        },
        "xaxis": {
         "anchor": "y",
         "domain": [
          0,
          1
         ],
         "title": {
          "text": "First t-SNE"
         }
        },
        "yaxis": {
         "anchor": "x",
         "domain": [
          0,
          1
         ],
         "title": {
          "text": "Second t-SNE"
         }
        }
       }
      }
     },
     "metadata": {},
     "output_type": "display_data"
    }
   ],
   "source": [
    "fig = px.scatter(x=reduced_data.iloc[:, 0],\n",
    "                 y=reduced_data.iloc[:, 1],\n",
    "                 text=reduced_data.index.to_list())\n",
    "fig.update_layout(\n",
    "    title=\"t-SNE visualization of Skills\",\n",
    "    xaxis_title=\"First t-SNE\",\n",
    "    yaxis_title=\"Second t-SNE\",\n",
    ")\n",
    "fig.show()"
   ]
  },
  {
   "cell_type": "markdown",
   "metadata": {},
   "source": [
    "We observe that skills can be clustered. We can reduce number of features by grouping skills together.\n",
    "\n",
    "But what is the suitable number of clusters?"
   ]
  },
  {
   "cell_type": "code",
   "execution_count": 38,
   "metadata": {},
   "outputs": [
    {
     "data": {
      "text/plain": [
       "<Figure size 600x500 with 0 Axes>"
      ]
     },
     "metadata": {},
     "output_type": "display_data"
    }
   ],
   "source": [
    "from sklearn.metrics import silhouette_score\n",
    "from sklearn.cluster import AgglomerativeClustering\n",
    "plt.figure(figsize=(6, 5))\n",
    "n_clusters = range(10, 27)\n",
    "scores=[]\n",
    "best_clustering_model = None\n",
    "for i in n_clusters:\n",
    "    agg_clust = AgglomerativeClustering(n_clusters=i, linkage='ward')\n",
    "    labels = agg_clust.fit_predict(reduced_data)\n",
    "    score = silhouette_score(reduced_data, labels)\n",
    "    scores.append(score)\n",
    "    if score >= np.max(scores) :\n",
    "        best_clustering_model = agg_clust"
   ]
  },
  {
   "cell_type": "code",
   "execution_count": 39,
   "metadata": {},
   "outputs": [
    {
     "data": {
      "image/png": "[encoded data removed]",
      "text/plain": [
       "<Figure size 640x480 with 1 Axes>"
      ]
     },
     "metadata": {},
     "output_type": "display_data"
    }
   ],
   "source": [
    "plt.plot(n_clusters, scores, marker='o')\n",
    "plt.xlabel('Number of clusters')\n",
    "plt.ylabel('Silhouette Score')\n",
    "plt.title('Silhouette Score vs Number of Clusters')\n",
    "plt.axvline(best_clustering_model.n_clusters_,color='black')\n",
    "plt.show()"
   ]
  },
  {
   "cell_type": "code",
   "execution_count": 47,
   "metadata": {},
   "outputs": [],
   "source": [
    "cluster_labels = [\"skills_group_\" + str(label) \n",
    "                 for label in best_clustering_model.labels_]"
   ]
  },
  {
   "cell_type": "code",
   "execution_count": 49,
   "metadata": {},
   "outputs": [
    {
     "data": {
      "application/vnd.plotly.v1+json": {
       "config": {
        "plotlyServerURL": "https://plot.ly"
       },
       "data": [
        {
         "hovertemplate": "color=skills_group_2<br>x=%{x}<br>y=%{y}<br>text=%{text}<extra></extra>",
         "legendgroup": "skills_group_2",
         "marker": {
          "color": "#636efa",
          "symbol": "circle"
         },
         "mode": "markers+text",
         "name": "skills_group_2",
         "orientation": "v",
         "showlegend": true,
         "text": [
          "Cassandra",
          "Couchbase",
          "DigitalOcean",
          "Heroku",
          "Qt",
          "Flow",
          "Pulumi",
          "Puppet",
          "APL",
          "Crystal",
          "Haskell",
          "Svelte",
          "RubyMine"
         ],
         "textposition": "top center",
         "type": "scatter",
         "x": {
          "bdata": "j+8APz1UM0Auhrm/IQ5WQBAccMDkfwY/8/0Tv+1wzT4BJZe/v8TLv7PQ778OqhhAc+MRQA==",
          "dtype": "f4"
         },
         "xaxis": "x",
         "y": {
          "bdata": "VigRwM3BWMC+9izAdnPkwPEWUMBxAve+8duev4QpiMBNBPW9G2Gdv625lMBoJYy/7EnJwA==",
          "dtype": "f4"
         },
         "yaxis": "y"
        },
        {
         "hovertemplate": "color=skills_group_0<br>x=%{x}<br>y=%{y}<br>text=%{text}<extra></extra>",
         "legendgroup": "skills_group_0",
         "marker": {
          "color": "#EF553B",
          "symbol": "circle"
         },
         "mode": "markers+text",
         "name": "skills_group_0",
         "orientation": "v",
         "showlegend": true,
         "text": [
          "DynamoDB",
          "Elasticsearch",
          "PostgreSQL",
          "Redis",
          "AWS",
          "Ansible",
          "Chef",
          "Docker",
          "Kubernetes",
          "Terraform"
         ],
         "textposition": "top center",
         "type": "scatter",
         "x": {
          "bdata": "sjHyQLTle0D3ta9AW/WVQHBCAUFcVJY/QqAWQHJpDkE7MRhB9GEZQQ==",
          "dtype": "f4"
         },
         "xaxis": "x",
         "y": {
          "bdata": "/m4awWKyYsHALYHBa8ZzwR7bKcEGyDXBWZA4wTYogsFohnDBs25ewQ==",
          "dtype": "f4"
         },
         "yaxis": "y"
        },
        {
         "hovertemplate": "color=skills_group_10<br>x=%{x}<br>y=%{y}<br>text=%{text}<extra></extra>",
         "legendgroup": "skills_group_10",
         "marker": {
          "color": "#00cc96",
          "symbol": "circle"
         },
         "mode": "markers+text",
         "name": "skills_group_10",
         "orientation": "v",
         "showlegend": true,
         "text": [
          "Firebase",
          "Google Cloud Platform",
          "Flutter",
          "Dart",
          "Kotlin",
          "Android Studio"
         ],
         "textposition": "top center",
         "type": "scatter",
         "x": {
          "bdata": "6GG/wf2lyMGNHq7BwMCxwRJ/jcGKSJ7B",
          "dtype": "f4"
         },
         "xaxis": "x",
         "y": {
          "bdata": "lU+BP7iMmD9rty8/659AP4dUYD6wKN4+",
          "dtype": "f4"
         },
         "yaxis": "y"
        },
        {
         "hovertemplate": "color=skills_group_6<br>x=%{x}<br>y=%{y}<br>text=%{text}<extra></extra>",
         "legendgroup": "skills_group_6",
         "marker": {
          "color": "#ab63fa",
          "symbol": "circle"
         },
         "mode": "markers+text",
         "name": "skills_group_6",
         "orientation": "v",
         "showlegend": true,
         "text": [
          "IBM DB2",
          "COBOL",
          "Delphi",
          "Groovy",
          "Matlab",
          "Perl",
          "VBA"
         ],
         "textposition": "top center",
         "type": "scatter",
         "x": {
          "bdata": "KgOHwDvtHMALIHXAxDlVwFKIq8Cs/sTAM/ccwA==",
          "dtype": "f4"
         },
         "xaxis": "x",
         "y": {
          "bdata": "ZNZIQMJPfz6uryk/j6idvzgCh7/1apQ/wrHaPw==",
          "dtype": "f4"
         },
         "yaxis": "y"
        },
        {
         "hovertemplate": "color=skills_group_22<br>x=%{x}<br>y=%{y}<br>text=%{text}<extra></extra>",
         "legendgroup": "skills_group_22",
         "marker": {
          "color": "#FFA15A",
          "symbol": "circle"
         },
         "mode": "markers+text",
         "name": "skills_group_22",
         "orientation": "v",
         "showlegend": true,
         "text": [
          "MariaDB",
          "Symfony",
          "PHPStorm"
         ],
         "textposition": "top center",
         "type": "scatter",
         "x": {
          "bdata": "nbvdQBpI80D0mgVB",
          "dtype": "f4"
         },
         "xaxis": "x",
         "y": {
          "bdata": "5tYlQZykM0GZvEJB",
          "dtype": "f4"
         },
         "yaxis": "y"
        },
        {
         "hovertemplate": "color=skills_group_11<br>x=%{x}<br>y=%{y}<br>text=%{text}<extra></extra>",
         "legendgroup": "skills_group_11",
         "marker": {
          "color": "#19d3f3",
          "symbol": "circle"
         },
         "mode": "markers+text",
         "name": "skills_group_11",
         "orientation": "v",
         "showlegend": true,
         "text": [
          "Microsoft SQL Server",
          "Microsoft Azure",
          ".NET Core / .NET 5",
          ".NET Framework",
          "C#",
          "ASP.NET",
          "ASP.NET Core ",
          "Visual Studio"
         ],
         "textposition": "top center",
         "type": "scatter",
         "x": {
          "bdata": "KN8oQT1A/0ADmB1BXhM0Qe6/LkF/0SZB4HIZQY3QOEE=",
          "dtype": "f4"
         },
         "xaxis": "x",
         "y": {
          "bdata": "PsvBQYn8z0FlJNpBuZzcQfy05kHHmM5BhzHTQep27kE=",
          "dtype": "f4"
         },
         "yaxis": "y"
        },
        {
         "hovertemplate": "color=skills_group_9<br>x=%{x}<br>y=%{y}<br>text=%{text}<extra></extra>",
         "legendgroup": "skills_group_9",
         "marker": {
          "color": "#FF6692",
          "symbol": "circle"
         },
         "mode": "markers+text",
         "name": "skills_group_9",
         "orientation": "v",
         "showlegend": true,
         "text": [
          "MongoDB",
          "React Native",
          "Yarn",
          "Node.js",
          "Express",
          "Gatsby",
          "React.js"
         ],
         "textposition": "top center",
         "type": "scatter",
         "x": {
          "bdata": "NJ54QbLfJ0EAKz1B2fxxQYJNaUE8s0tB+LtBQQ==",
          "dtype": "f4"
         },
         "xaxis": "x",
         "y": {
          "bdata": "T49owMdOrr7qnZHAhDPJv45KMsAQtIPAkqRtvw==",
          "dtype": "f4"
         },
         "yaxis": "y"
        },
        {
         "hovertemplate": "color=skills_group_8<br>x=%{x}<br>y=%{y}<br>text=%{text}<extra></extra>",
         "legendgroup": "skills_group_8",
         "marker": {
          "color": "#B6E880",
          "symbol": "circle"
         },
         "mode": "markers+text",
         "name": "skills_group_8",
         "orientation": "v",
         "showlegend": true,
         "text": [
          "MySQL",
          "PHP",
          "SQL",
          "Laravel",
          "jQuery"
         ],
         "textposition": "top center",
         "type": "scatter",
         "x": {
          "bdata": "UxssQSkWKUFX/C9BRT8WQbm7OEE=",
          "dtype": "f4"
         },
         "xaxis": "x",
         "y": {
          "bdata": "NlSOQZajgUGQ6JtBv0xzQeldeEE=",
          "dtype": "f4"
         },
         "yaxis": "y"
        },
        {
         "hovertemplate": "color=skills_group_5<br>x=%{x}<br>y=%{y}<br>text=%{text}<extra></extra>",
         "legendgroup": "skills_group_5",
         "marker": {
          "color": "#FF97FF",
          "symbol": "circle"
         },
         "mode": "markers+text",
         "name": "skills_group_5",
         "orientation": "v",
         "showlegend": true,
         "text": [
          "Oracle",
          "Oracle Cloud Infrastructure",
          "Atom",
          "Sublime Text",
          "TextMate"
         ],
         "textposition": "top center",
         "type": "scatter",
         "x": {
          "bdata": "4EGDwKbGbMAC5QjBmbYCwbZA/cA=",
          "dtype": "f4"
         },
         "xaxis": "x",
         "y": {
          "bdata": "HPH2QPj310CmIW9Ah9W/QBJTm0A=",
          "dtype": "f4"
         },
         "yaxis": "y"
        },
        {
         "hovertemplate": "color=skills_group_16<br>x=%{x}<br>y=%{y}<br>text=%{text}<extra></extra>",
         "legendgroup": "skills_group_16",
         "marker": {
          "color": "#FECB52",
          "symbol": "circle"
         },
         "mode": "markers+text",
         "name": "skills_group_16",
         "orientation": "v",
         "showlegend": true,
         "text": [
          "SQLite",
          "Xamarin",
          "Django",
          "Drupal"
         ],
         "textposition": "top center",
         "type": "scatter",
         "x": {
          "bdata": "DZswvVyYLj/gr+K+9sOTQA==",
          "dtype": "f4"
         },
         "xaxis": "x",
         "y": {
          "bdata": "uvozQQKh7EC75CRBnAjQQA==",
          "dtype": "f4"
         },
         "yaxis": "y"
        },
        {
         "hovertemplate": "color=skills_group_23<br>x=%{x}<br>y=%{y}<br>text=%{text}<extra></extra>",
         "legendgroup": "skills_group_23",
         "marker": {
          "color": "#636efa",
          "symbol": "circle"
         },
         "mode": "markers+text",
         "name": "skills_group_23",
         "orientation": "v",
         "showlegend": true,
         "text": [
          "IBM Cloud or Watson",
          "F#",
          "PowerShell",
          "Scala",
          "Rider"
         ],
         "textposition": "top center",
         "type": "scatter",
         "x": {
          "bdata": "09/PP5ImBD9LN9K/a6v2vlApFUA=",
          "dtype": "f4"
         },
         "xaxis": "x",
         "y": {
          "bdata": "TUiXPwYacUDjgIhAtMDJP6ezhEA=",
          "dtype": "f4"
         },
         "yaxis": "y"
        },
        {
         "hovertemplate": "color=skills_group_4<br>x=%{x}<br>y=%{y}<br>text=%{text}<extra></extra>",
         "legendgroup": "skills_group_4",
         "marker": {
          "color": "#EF553B",
          "symbol": "circle"
         },
         "mode": "markers+text",
         "name": "skills_group_4",
         "orientation": "v",
         "showlegend": true,
         "text": [
          "Apache Spark",
          "Hadoop",
          "Torch/PyTorch",
          "Elixir",
          "Erlang",
          "Go"
         ],
         "textposition": "top center",
         "type": "scatter",
         "x": {
          "bdata": "TbADwcL29cAf8yrATL2QwKpTdsDzboq/",
          "dtype": "f4"
         },
         "xaxis": "x",
         "y": {
          "bdata": "6ZguwZy2IsFpqC3BcxTqwGw7z8C8P+bA",
          "dtype": "f4"
         },
         "yaxis": "y"
        },
        {
         "hovertemplate": "color=skills_group_3<br>x=%{x}<br>y=%{y}<br>text=%{text}<extra></extra>",
         "legendgroup": "skills_group_3",
         "marker": {
          "color": "#00cc96",
          "symbol": "circle"
         },
         "mode": "markers+text",
         "name": "skills_group_3",
         "orientation": "v",
         "showlegend": true,
         "text": [
          "Cordova",
          "Deno",
          "Rust",
          "Vue.js",
          "Webstorm"
         ],
         "textposition": "top center",
         "type": "scatter",
         "x": {
          "bdata": "dgrdQK4K9EDsRJ9Aq7LLQNeshEA=",
          "dtype": "f4"
         },
         "xaxis": "x",
         "y": {
          "bdata": "l8VHQI9uUMDgBKS/ioOPwJnovz8=",
          "dtype": "f4"
         },
         "yaxis": "y"
        },
        {
         "hovertemplate": "color=skills_group_1<br>x=%{x}<br>y=%{y}<br>text=%{text}<extra></extra>",
         "legendgroup": "skills_group_1",
         "marker": {
          "color": "#ab63fa",
          "symbol": "circle"
         },
         "mode": "markers+text",
         "name": "skills_group_1",
         "orientation": "v",
         "showlegend": true,
         "text": [
          "Keras",
          "NumPy",
          "Pandas",
          "TensorFlow",
          "Python",
          "IPython/Jupyter"
         ],
         "textposition": "top center",
         "type": "scatter",
         "x": {
          "bdata": "SNb7vyyRb8BZBl/AzerQv6FAmcDhXUTA",
          "dtype": "f4"
         },
         "xaxis": "x",
         "y": {
          "bdata": "oLi0wWFs2cH/mtfBg/G2wSdO4MHz2KzB",
          "dtype": "f4"
         },
         "yaxis": "y"
        },
        {
         "hovertemplate": "color=skills_group_15<br>x=%{x}<br>y=%{y}<br>text=%{text}<extra></extra>",
         "legendgroup": "skills_group_15",
         "marker": {
          "color": "#FFA15A",
          "symbol": "circle"
         },
         "mode": "markers+text",
         "name": "skills_group_15",
         "orientation": "v",
         "showlegend": true,
         "text": [
          "Git",
          "HTML/CSS",
          "JavaScript",
          "Visual Studio Code"
         ],
         "textposition": "top center",
         "type": "scatter",
         "x": {
          "bdata": "EofxQaQI30GcfOFBMkPvQQ==",
          "dtype": "f4"
         },
         "xaxis": "x",
         "y": {
          "bdata": "FnDsQFHMBUFG3ANBQMbzQA==",
          "dtype": "f4"
         },
         "yaxis": "y"
        },
        {
         "hovertemplate": "color=skills_group_24<br>x=%{x}<br>y=%{y}<br>text=%{text}<extra></extra>",
         "legendgroup": "skills_group_24",
         "marker": {
          "color": "#19d3f3",
          "symbol": "circle"
         },
         "mode": "markers+text",
         "name": "skills_group_24",
         "orientation": "v",
         "showlegend": true,
         "text": [
          "Unity 3D",
          "Unreal Engine"
         ],
         "textposition": "top center",
         "type": "scatter",
         "x": {
          "bdata": "Kl1fwXupUsE=",
          "dtype": "f4"
         },
         "xaxis": "x",
         "y": {
          "bdata": "h+KlQCQAl0A=",
          "dtype": "f4"
         },
         "yaxis": "y"
        },
        {
         "hovertemplate": "color=skills_group_12<br>x=%{x}<br>y=%{y}<br>text=%{text}<extra></extra>",
         "legendgroup": "skills_group_12",
         "marker": {
          "color": "#FF6692",
          "symbol": "circle"
         },
         "mode": "markers+text",
         "name": "skills_group_12",
         "orientation": "v",
         "showlegend": true,
         "text": [
          "Assembly",
          "Bash/Shell",
          "C",
          "C++"
         ],
         "textposition": "top center",
         "type": "scatter",
         "x": {
          "bdata": "rEl2wZ2lZ8GVpJfBdSKZwQ==",
          "dtype": "f4"
         },
         "xaxis": "x",
         "y": {
          "bdata": "ztMTwYLkHMHmYiXBHi4mwQ==",
          "dtype": "f4"
         },
         "yaxis": "y"
        },
        {
         "hovertemplate": "color=skills_group_7<br>x=%{x}<br>y=%{y}<br>text=%{text}<extra></extra>",
         "legendgroup": "skills_group_7",
         "marker": {
          "color": "#B6E880",
          "symbol": "circle"
         },
         "mode": "markers+text",
         "name": "skills_group_7",
         "orientation": "v",
         "showlegend": true,
         "text": [
          "Clojure",
          "Julia",
          "LISP",
          "Emacs",
          "Neovim",
          "Vim"
         ],
         "textposition": "top center",
         "type": "scatter",
         "x": {
          "bdata": "sa4Bwc/kxMBI7SvB9PI5wcQfHMFYpCrB",
          "dtype": "f4"
         },
         "xaxis": "x",
         "y": {
          "bdata": "D6DKv5ZJgMBJLrS+xXFOv0j3sMCPJbvA",
          "dtype": "f4"
         },
         "yaxis": "y"
        },
        {
         "hovertemplate": "color=skills_group_13<br>x=%{x}<br>y=%{y}<br>text=%{text}<extra></extra>",
         "legendgroup": "skills_group_13",
         "marker": {
          "color": "#FF97FF",
          "symbol": "circle"
         },
         "mode": "markers+text",
         "name": "skills_group_13",
         "orientation": "v",
         "showlegend": true,
         "text": [
          "Java",
          "Spring",
          "IntelliJ"
         ],
         "textposition": "top center",
         "type": "scatter",
         "x": {
          "bdata": "vlWMwW9IgMHkNYrB",
          "dtype": "f4"
         },
         "xaxis": "x",
         "y": {
          "bdata": "vRldQYIGQkFDK1dB",
          "dtype": "f4"
         },
         "yaxis": "y"
        },
        {
         "hovertemplate": "color=skills_group_18<br>x=%{x}<br>y=%{y}<br>text=%{text}<extra></extra>",
         "legendgroup": "skills_group_18",
         "marker": {
          "color": "#FECB52",
          "symbol": "circle"
         },
         "mode": "markers+text",
         "name": "skills_group_18",
         "orientation": "v",
         "showlegend": true,
         "text": [
          "Objective-C",
          "Swift",
          "Xcode"
         ],
         "textposition": "top center",
         "type": "scatter",
         "x": {
          "bdata": "L2z2wOUgB8HjvRLB",
          "dtype": "f4"
         },
         "xaxis": "x",
         "y": {
          "bdata": "phQxQaL6PUFmm0pB",
          "dtype": "f4"
         },
         "yaxis": "y"
        },
        {
         "hovertemplate": "color=skills_group_14<br>x=%{x}<br>y=%{y}<br>text=%{text}<extra></extra>",
         "legendgroup": "skills_group_14",
         "marker": {
          "color": "#636efa",
          "symbol": "circle"
         },
         "mode": "markers+text",
         "name": "skills_group_14",
         "orientation": "v",
         "showlegend": true,
         "text": [
          "R",
          "RStudio"
         ],
         "textposition": "top center",
         "type": "scatter",
         "x": {
          "bdata": "nfi4weLyuME=",
          "dtype": "f4"
         },
         "xaxis": "x",
         "y": {
          "bdata": "BL6mwSm/psE=",
          "dtype": "f4"
         },
         "yaxis": "y"
        },
        {
         "hovertemplate": "color=skills_group_20<br>x=%{x}<br>y=%{y}<br>text=%{text}<extra></extra>",
         "legendgroup": "skills_group_20",
         "marker": {
          "color": "#EF553B",
          "symbol": "circle"
         },
         "mode": "markers+text",
         "name": "skills_group_20",
         "orientation": "v",
         "showlegend": true,
         "text": [
          "Ruby",
          "Ruby on Rails"
         ],
         "textposition": "top center",
         "type": "scatter",
         "x": {
          "bdata": "8GRJwZEgScE=",
          "dtype": "f4"
         },
         "xaxis": "x",
         "y": {
          "bdata": "mYKnwRV3p8E=",
          "dtype": "f4"
         },
         "yaxis": "y"
        },
        {
         "hovertemplate": "color=skills_group_19<br>x=%{x}<br>y=%{y}<br>text=%{text}<extra></extra>",
         "legendgroup": "skills_group_19",
         "marker": {
          "color": "#00cc96",
          "symbol": "circle"
         },
         "mode": "markers+text",
         "name": "skills_group_19",
         "orientation": "v",
         "showlegend": true,
         "text": [
          "TypeScript",
          "Angular",
          "Angular.js"
         ],
         "textposition": "top center",
         "type": "scatter",
         "x": {
          "bdata": "NoZhQbAXUEEbMD1B",
          "dtype": "f4"
         },
         "xaxis": "x",
         "y": {
          "bdata": "zrSLQEPnmUBAh6NA",
          "dtype": "f4"
         },
         "yaxis": "y"
        },
        {
         "hovertemplate": "color=skills_group_17<br>x=%{x}<br>y=%{y}<br>text=%{text}<extra></extra>",
         "legendgroup": "skills_group_17",
         "marker": {
          "color": "#ab63fa",
          "symbol": "circle"
         },
         "mode": "markers+text",
         "name": "skills_group_17",
         "orientation": "v",
         "showlegend": true,
         "text": [
          "FastAPI",
          "Flask",
          "PyCharm"
         ],
         "textposition": "top center",
         "type": "scatter",
         "x": {
          "bdata": "V4iYwK/wrsCgH4XA",
          "dtype": "f4"
         },
         "xaxis": "x",
         "y": {
          "bdata": "0CGEwThifsFpIprB",
          "dtype": "f4"
         },
         "yaxis": "y"
        },
        {
         "hovertemplate": "color=skills_group_21<br>x=%{x}<br>y=%{y}<br>text=%{text}<extra></extra>",
         "legendgroup": "skills_group_21",
         "marker": {
          "color": "#FFA15A",
          "symbol": "circle"
         },
         "mode": "markers+text",
         "name": "skills_group_21",
         "orientation": "v",
         "showlegend": true,
         "text": [
          "Eclipse",
          "NetBeans",
          "Notepad++"
         ],
         "textposition": "top center",
         "type": "scatter",
         "x": {
          "bdata": "EY2fwGhjicAwS4LA",
          "dtype": "f4"
         },
         "xaxis": "x",
         "y": {
          "bdata": "PByOQaSYiUH/qZVB",
          "dtype": "f4"
         },
         "yaxis": "y"
        }
       ],
       "layout": {
        "height": 800,
        "legend": {
         "title": {
          "text": "color"
         },
         "tracegroupgap": 0
        },
        "margin": {
         "t": 60
        },
        "template": {
         "data": {
          "bar": [
           {
            "error_x": {
             "color": "#2a3f5f"
            },
            "error_y": {
             "color": "#2a3f5f"
            },
            "marker": {
             "line": {
              "color": "#E5ECF6",
              "width": 0.5
             },
             "pattern": {
              "fillmode": "overlay",
              "size": 10,
              "solidity": 0.2
             }
            },
            "type": "bar"
           }
          ],
          "barpolar": [
           {
            "marker": {
             "line": {
              "color": "#E5ECF6",
              "width": 0.5
             },
             "pattern": {
              "fillmode": "overlay",
              "size": 10,
              "solidity": 0.2
             }
            },
            "type": "barpolar"
           }
          ],
          "carpet": [
           {
            "aaxis": {
             "endlinecolor": "#2a3f5f",
             "gridcolor": "white",
             "linecolor": "white",
             "minorgridcolor": "white",
             "startlinecolor": "#2a3f5f"
            },
            "baxis": {
             "endlinecolor": "#2a3f5f",
             "gridcolor": "white",
             "linecolor": "white",
             "minorgridcolor": "white",
             "startlinecolor": "#2a3f5f"
            },
            "type": "carpet"
           }
          ],
          "choropleth": [
           {
            "colorbar": {
             "outlinewidth": 0,
             "ticks": ""
            },
            "type": "choropleth"
           }
          ],
          "contour": [
           {
            "colorbar": {
             "outlinewidth": 0,
             "ticks": ""
            },
            "colorscale": [
             [
              0,
              "#0d0887"
             ],
             [
              0.1111111111111111,
              "#46039f"
             ],
             [
              0.2222222222222222,
              "#7201a8"
             ],
             [
              0.3333333333333333,
              "#9c179e"
             ],
             [
              0.4444444444444444,
              "#bd3786"
             ],
             [
              0.5555555555555556,
              "#d8576b"
             ],
             [
              0.6666666666666666,
              "#ed7953"
             ],
             [
              0.7777777777777778,
              "#fb9f3a"
             ],
             [
              0.8888888888888888,
              "#fdca26"
             ],
             [
              1,
              "#f0f921"
             ]
            ],
            "type": "contour"
           }
          ],
          "contourcarpet": [
           {
            "colorbar": {
             "outlinewidth": 0,
             "ticks": ""
            },
            "type": "contourcarpet"
           }
          ],
          "heatmap": [
           {
            "colorbar": {
             "outlinewidth": 0,
             "ticks": ""
            },
            "colorscale": [
             [
              0,
              "#0d0887"
             ],
             [
              0.1111111111111111,
              "#46039f"
             ],
             [
              0.2222222222222222,
              "#7201a8"
             ],
             [
              0.3333333333333333,
              "#9c179e"
             ],
             [
              0.4444444444444444,
              "#bd3786"
             ],
             [
              0.5555555555555556,
              "#d8576b"
             ],
             [
              0.6666666666666666,
              "#ed7953"
             ],
             [
              0.7777777777777778,
              "#fb9f3a"
             ],
             [
              0.8888888888888888,
              "#fdca26"
             ],
             [
              1,
              "#f0f921"
             ]
            ],
            "type": "heatmap"
           }
          ],
          "histogram": [
           {
            "marker": {
             "pattern": {
              "fillmode": "overlay",
              "size": 10,
              "solidity": 0.2
             }
            },
            "type": "histogram"
           }
          ],
          "histogram2d": [
           {
            "colorbar": {
             "outlinewidth": 0,
             "ticks": ""
            },
            "colorscale": [
             [
              0,
              "#0d0887"
             ],
             [
              0.1111111111111111,
              "#46039f"
             ],
             [
              0.2222222222222222,
              "#7201a8"
             ],
             [
              0.3333333333333333,
              "#9c179e"
             ],
             [
              0.4444444444444444,
              "#bd3786"
             ],
             [
              0.5555555555555556,
              "#d8576b"
             ],
             [
              0.6666666666666666,
              "#ed7953"
             ],
             [
              0.7777777777777778,
              "#fb9f3a"
             ],
             [
              0.8888888888888888,
              "#fdca26"
             ],
             [
              1,
              "#f0f921"
             ]
            ],
            "type": "histogram2d"
           }
          ],
          "histogram2dcontour": [
           {
            "colorbar": {
             "outlinewidth": 0,
             "ticks": ""
            },
            "colorscale": [
             [
              0,
              "#0d0887"
             ],
             [
              0.1111111111111111,
              "#46039f"
             ],
             [
              0.2222222222222222,
              "#7201a8"
             ],
             [
              0.3333333333333333,
              "#9c179e"
             ],
             [
              0.4444444444444444,
              "#bd3786"
             ],
             [
              0.5555555555555556,
              "#d8576b"
             ],
             [
              0.6666666666666666,
              "#ed7953"
             ],
             [
              0.7777777777777778,
              "#fb9f3a"
             ],
             [
              0.8888888888888888,
              "#fdca26"
             ],
             [
              1,
              "#f0f921"
             ]
            ],
            "type": "histogram2dcontour"
           }
          ],
          "mesh3d": [
           {
            "colorbar": {
             "outlinewidth": 0,
             "ticks": ""
            },
            "type": "mesh3d"
           }
          ],
          "parcoords": [
           {
            "line": {
             "colorbar": {
              "outlinewidth": 0,
              "ticks": ""
             }
            },
            "type": "parcoords"
           }
          ],
          "pie": [
           {
            "automargin": true,
            "type": "pie"
           }
          ],
          "scatter": [
           {
            "fillpattern": {
             "fillmode": "overlay",
             "size": 10,
             "solidity": 0.2
            },
            "type": "scatter"
           }
          ],
          "scatter3d": [
           {
            "line": {
             "colorbar": {
              "outlinewidth": 0,
              "ticks": ""
             }
            },
            "marker": {
             "colorbar": {
              "outlinewidth": 0,
              "ticks": ""
             }
            },
            "type": "scatter3d"
           }
          ],
          "scattercarpet": [
           {
            "marker": {
             "colorbar": {
              "outlinewidth": 0,
              "ticks": ""
             }
            },
            "type": "scattercarpet"
           }
          ],
          "scattergeo": [
           {
            "marker": {
             "colorbar": {
              "outlinewidth": 0,
              "ticks": ""
             }
            },
            "type": "scattergeo"
           }
          ],
          "scattergl": [
           {
            "marker": {
             "colorbar": {
              "outlinewidth": 0,
              "ticks": ""
             }
            },
            "type": "scattergl"
           }
          ],
          "scattermap": [
           {
            "marker": {
             "colorbar": {
              "outlinewidth": 0,
              "ticks": ""
             }
            },
            "type": "scattermap"
           }
          ],
          "scattermapbox": [
           {
            "marker": {
             "colorbar": {
              "outlinewidth": 0,
              "ticks": ""
             }
            },
            "type": "scattermapbox"
           }
          ],
          "scatterpolar": [
           {
            "marker": {
             "colorbar": {
              "outlinewidth": 0,
              "ticks": ""
             }
            },
            "type": "scatterpolar"
           }
          ],
          "scatterpolargl": [
           {
            "marker": {
             "colorbar": {
              "outlinewidth": 0,
              "ticks": ""
             }
            },
            "type": "scatterpolargl"
           }
          ],
          "scatterternary": [
           {
            "marker": {
             "colorbar": {
              "outlinewidth": 0,
              "ticks": ""
             }
            },
            "type": "scatterternary"
           }
          ],
          "surface": [
           {
            "colorbar": {
             "outlinewidth": 0,
             "ticks": ""
            },
            "colorscale": [
             [
              0,
              "#0d0887"
             ],
             [
              0.1111111111111111,
              "#46039f"
             ],
             [
              0.2222222222222222,
              "#7201a8"
             ],
             [
              0.3333333333333333,
              "#9c179e"
             ],
             [
              0.4444444444444444,
              "#bd3786"
             ],
             [
              0.5555555555555556,
              "#d8576b"
             ],
             [
              0.6666666666666666,
              "#ed7953"
             ],
             [
              0.7777777777777778,
              "#fb9f3a"
             ],
             [
              0.8888888888888888,
              "#fdca26"
             ],
             [
              1,
              "#f0f921"
             ]
            ],
            "type": "surface"
           }
          ],
          "table": [
           {
            "cells": {
             "fill": {
              "color": "#EBF0F8"
             },
             "line": {
              "color": "white"
             }
            },
            "header": {
             "fill": {
              "color": "#C8D4E3"
             },
             "line": {
              "color": "white"
             }
            },
            "type": "table"
           }
          ]
         },
         "layout": {
          "annotationdefaults": {
           "arrowcolor": "#2a3f5f",
           "arrowhead": 0,
           "arrowwidth": 1
          },
          "autotypenumbers": "strict",
          "coloraxis": {
           "colorbar": {
            "outlinewidth": 0,
            "ticks": ""
           }
          },
          "colorscale": {
           "diverging": [
            [
             0,
             "#8e0152"
            ],
            [
             0.1,
             "#c51b7d"
            ],
            [
             0.2,
             "#de77ae"
            ],
            [
             0.3,
             "#f1b6da"
            ],
            [
             0.4,
             "#fde0ef"
            ],
            [
             0.5,
             "#f7f7f7"
            ],
            [
             0.6,
             "#e6f5d0"
            ],
            [
             0.7,
             "#b8e186"
            ],
            [
             0.8,
             "#7fbc41"
            ],
            [
             0.9,
             "#4d9221"
            ],
            [
             1,
             "#276419"
            ]
           ],
           "sequential": [
            [
             0,
             "#0d0887"
            ],
            [
             0.1111111111111111,
             "#46039f"
            ],
            [
             0.2222222222222222,
             "#7201a8"
            ],
            [
             0.3333333333333333,
             "#9c179e"
            ],
            [
             0.4444444444444444,
             "#bd3786"
            ],
            [
             0.5555555555555556,
             "#d8576b"
            ],
            [
             0.6666666666666666,
             "#ed7953"
            ],
            [
             0.7777777777777778,
             "#fb9f3a"
            ],
            [
             0.8888888888888888,
             "#fdca26"
            ],
            [
             1,
             "#f0f921"
            ]
           ],
           "sequentialminus": [
            [
             0,
             "#0d0887"
            ],
            [
             0.1111111111111111,
             "#46039f"
            ],
            [
             0.2222222222222222,
             "#7201a8"
            ],
            [
             0.3333333333333333,
             "#9c179e"
            ],
            [
             0.4444444444444444,
             "#bd3786"
            ],
            [
             0.5555555555555556,
             "#d8576b"
            ],
            [
             0.6666666666666666,
             "#ed7953"
            ],
            [
             0.7777777777777778,
             "#fb9f3a"
            ],
            [
             0.8888888888888888,
             "#fdca26"
            ],
            [
             1,
             "#f0f921"
            ]
           ]
          },
          "colorway": [
           "#636efa",
           "#EF553B",
           "#00cc96",
           "#ab63fa",
           "#FFA15A",
           "#19d3f3",
           "#FF6692",
           "#B6E880",
           "#FF97FF",
           "#FECB52"
          ],
          "font": {
           "color": "#2a3f5f"
          },
          "geo": {
           "bgcolor": "white",
           "lakecolor": "white",
           "landcolor": "#E5ECF6",
           "showlakes": true,
           "showland": true,
           "subunitcolor": "white"
          },
          "hoverlabel": {
           "align": "left"
          },
          "hovermode": "closest",
          "mapbox": {
           "style": "light"
          },
          "paper_bgcolor": "white",
          "plot_bgcolor": "#E5ECF6",
          "polar": {
           "angularaxis": {
            "gridcolor": "white",
            "linecolor": "white",
            "ticks": ""
           },
           "bgcolor": "#E5ECF6",
           "radialaxis": {
            "gridcolor": "white",
            "linecolor": "white",
            "ticks": ""
           }
          },
          "scene": {
           "xaxis": {
            "backgroundcolor": "#E5ECF6",
            "gridcolor": "white",
            "gridwidth": 2,
            "linecolor": "white",
            "showbackground": true,
            "ticks": "",
            "zerolinecolor": "white"
           },
           "yaxis": {
            "backgroundcolor": "#E5ECF6",
            "gridcolor": "white",
            "gridwidth": 2,
            "linecolor": "white",
            "showbackground": true,
            "ticks": "",
            "zerolinecolor": "white"
           },
           "zaxis": {
            "backgroundcolor": "#E5ECF6",
            "gridcolor": "white",
            "gridwidth": 2,
            "linecolor": "white",
            "showbackground": true,
            "ticks": "",
            "zerolinecolor": "white"
           }
          },
          "shapedefaults": {
           "line": {
            "color": "#2a3f5f"
           }
          },
          "ternary": {
           "aaxis": {
            "gridcolor": "white",
            "linecolor": "white",
            "ticks": ""
           },
           "baxis": {
            "gridcolor": "white",
            "linecolor": "white",
            "ticks": ""
           },
           "bgcolor": "#E5ECF6",
           "caxis": {
            "gridcolor": "white",
            "linecolor": "white",
            "ticks": ""
           }
          },
          "title": {
           "x": 0.05
          },
          "xaxis": {
           "automargin": true,
           "gridcolor": "white",
           "linecolor": "white",
           "ticks": "",
           "title": {
            "standoff": 15
           },
           "zerolinecolor": "white",
           "zerolinewidth": 2
          },
          "yaxis": {
           "automargin": true,
           "gridcolor": "white",
           "linecolor": "white",
           "ticks": "",
           "title": {
            "standoff": 15
           },
           "zerolinecolor": "white",
           "zerolinewidth": 2
          }
         }
        },
        "title": {
         "text": "Cluster"
        },
        "width": 800,
        "xaxis": {
         "anchor": "y",
         "domain": [
          0,
          1
         ],
         "title": {
          "text": "x"
         }
        },
        "yaxis": {
         "anchor": "x",
         "domain": [
          0,
          1
         ],
         "title": {
          "text": "y"
         }
        }
       }
      }
     },
     "metadata": {},
     "output_type": "display_data"
    }
   ],
   "source": [
    "fig = px.scatter(x=reduced_data.iloc[:, 0],\n",
    "                 y=reduced_data.iloc[:, 1],\n",
    "                 text=reduced_data.index.to_list(),\n",
    "                 color = cluster_labels)\n",
    "fig.update_traces(textposition='top center')\n",
    "fig.update_layout(height=800, width=800, title_text='Cluster')\n",
    "fig.show()"
   ]
  },
  {
   "cell_type": "code",
   "execution_count": 61,
   "metadata": {},
   "outputs": [
    {
     "data": {
      "text/plain": [
       "skills_group_0     [DynamoDB, Elasticsearch, PostgreSQL, Redis, A...\n",
       "skills_group_1     [Keras, NumPy, Pandas, TensorFlow, Python, IPy...\n",
       "skills_group_10    [Firebase, Google Cloud Platform, Flutter, Dar...\n",
       "skills_group_11    [Microsoft SQL Server, Microsoft Azure, .NET C...\n",
       "skills_group_12                       [Assembly, Bash/Shell, C, C++]\n",
       "skills_group_13                             [Java, Spring, IntelliJ]\n",
       "skills_group_14                                         [R, RStudio]\n",
       "skills_group_15      [Git, HTML/CSS, JavaScript, Visual Studio Code]\n",
       "skills_group_16                    [SQLite, Xamarin, Django, Drupal]\n",
       "skills_group_17                            [FastAPI, Flask, PyCharm]\n",
       "skills_group_18                          [Objective-C, Swift, Xcode]\n",
       "skills_group_19                    [TypeScript, Angular, Angular.js]\n",
       "skills_group_2     [Cassandra, Couchbase, DigitalOcean, Heroku, Q...\n",
       "skills_group_20                                [Ruby, Ruby on Rails]\n",
       "skills_group_21                       [Eclipse, NetBeans, Notepad++]\n",
       "skills_group_22                         [MariaDB, Symfony, PHPStorm]\n",
       "skills_group_23    [IBM Cloud or Watson, F#, PowerShell, Scala, R...\n",
       "skills_group_24                            [Unity 3D, Unreal Engine]\n",
       "skills_group_3               [Cordova, Deno, Rust, Vue.js, Webstorm]\n",
       "skills_group_4     [Apache Spark, Hadoop, Torch/PyTorch, Elixir, ...\n",
       "skills_group_5     [Oracle, Oracle Cloud Infrastructure, Atom, Su...\n",
       "skills_group_6     [IBM DB2, COBOL, Delphi, Groovy, Matlab, Perl,...\n",
       "skills_group_7            [Clojure, Julia, LISP, Emacs, Neovim, Vim]\n",
       "skills_group_8                    [MySQL, PHP, SQL, Laravel, jQuery]\n",
       "skills_group_9     [MongoDB, React Native, Yarn, Node.js, Express...\n",
       "dtype: object"
      ]
     },
     "execution_count": 61,
     "metadata": {},
     "output_type": "execute_result"
    }
   ],
   "source": [
    "skills_clusters = reduced_data.index.to_series().groupby(cluster_labels).apply(list)\n",
    "skills_clusters"
   ]
  },
  {
   "cell_type": "markdown",
   "metadata": {},
   "source": [
    "### Create Dataframe with clustered features"
   ]
  },
  {
   "cell_type": "code",
   "execution_count": 81,
   "metadata": {},
   "outputs": [],
   "source": [
    "dfs = {}\n",
    "for cluster, skills in skills_clusters.items():\n",
    "    dfs[cluster] = skills_df.loc[:,skills].sum(axis=1)"
   ]
  },
  {
   "cell_type": "code",
   "execution_count": 93,
   "metadata": {},
   "outputs": [],
   "source": [
    "clustered_skills_df = pd.concat([pd.DataFrame(dfs),df.loc[:,'DevType']],axis=1)"
   ]
  },
  {
   "cell_type": "markdown",
   "metadata": {},
   "source": [
    "### Export DF"
   ]
  },
  {
   "cell_type": "code",
   "execution_count": 96,
   "metadata": {},
   "outputs": [],
   "source": [
    "clustered_skills_df.to_pickle(CLUSTERED_DF_PATH)"
   ]
  }
 ],
 "metadata": {
  "kernelspec": {
   "display_name": "Python 3",
   "language": "python",
   "name": "python3"
  },
  "language_info": {
   "codemirror_mode": {
    "name": "ipython",
    "version": 3
   },
   "file_extension": ".py",
   "mimetype": "text/x-python",
   "name": "python",
   "nbconvert_exporter": "python",
   "pygments_lexer": "ipython3",
   "version": "3.13.1"
  }
 },
 "nbformat": 4,
 "nbformat_minor": 2
}
